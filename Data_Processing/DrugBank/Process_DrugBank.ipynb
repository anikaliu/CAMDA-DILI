{
 "cells": [
  {
   "cell_type": "code",
   "execution_count": null,
   "metadata": {},
   "outputs": [],
   "source": [
    "import pandas as pd\n",
    "import numpy as np\n",
    "from rdkit import Chem\n",
    "from rdkit.Chem import AllChem as Chem\n",
    "from standardiser import standardise as std\n",
    "from chembl_webresource_client.unichem import unichem_client as unichem\n",
    "from requests.exceptions import RetryError\n",
    "import matplotlib.pyplot as plt\n",
    "%matplotlib inline"
   ]
  },
  {
   "cell_type": "code",
   "execution_count": null,
   "metadata": {},
   "outputs": [],
   "source": [
    "data = pd.read_csv(\"./drugbank_approved_structure_links_v5_1_5.csv\")\n",
    "print(data.shape)\n",
    "data.head()"
   ]
  },
  {
   "cell_type": "code",
   "execution_count": null,
   "metadata": {},
   "outputs": [],
   "source": [
    "# get smiles and inchi\n",
    "\n",
    "def std_smile_and_inchi(smiles_list):\n",
    "    i=0\n",
    "    std_smiles = []\n",
    "    std_smiles_canonical = []\n",
    "    inchi_keys = []\n",
    "    inchi_keys_canonical = []\n",
    "    length = len(smiles_list)\n",
    "    for smile in smiles_list[:]:\n",
    "\n",
    "        if type(smile) == float or smile is None:\n",
    "            std_smile = None\n",
    "            std_smiles.append(std_smile)\n",
    "            inchi_key = None\n",
    "            inchi_keys.append(inchi_key)\n",
    "            inchi_key_can = None\n",
    "            inchi_keys_canonical.append(inchi_key)\n",
    "            std_smile_can = None\n",
    "            std_smiles_canonical.append(std_smile_can)\n",
    "            \n",
    "        else:\n",
    "            # Isomeric\n",
    "            try:\n",
    "                std_smile = std.run(smile)\n",
    "                std_smile = Chem.CanonSmiles(std_smile, useChiral=1)\n",
    "                mol = Chem.MolFromSmiles(std_smile)#,catchErrors=False)\n",
    "\n",
    "                if mol is None: ### Currently doesn't capture the cant kekulize mol :( \n",
    "                    print (\"Error in molfrom smiles -> skipping this molecule\")\n",
    "                    inchi_key = None\n",
    "                    inchi_keys.append(inchi_key)\n",
    "                    std_smiles.append(std_smile)\n",
    "\n",
    "                else:\n",
    "                    std_smiles.append(std_smile)\n",
    "                    inchi_key = Chem.inchi.MolToInchiKey(mol) ### INCHI AT THE MOMENT (WHICH IS WHY CHEMBL_ID ISEN'T WORKING)\n",
    "                    inchi_keys.append(inchi_key)\n",
    "\n",
    "            except std.StandardiseException:\n",
    "                print ('hey')\n",
    "                std_smile = None\n",
    "                std_smiles.append(std_smile)\n",
    "                inchi_key = None\n",
    "                inchi_keys.append(inchi_key)\n",
    "\n",
    "            except Chem.inchi.InchiReadWriteError:\n",
    "                inchi_key = None\n",
    "                inchi_keys.append(inchi_key)\n",
    "\n",
    "                \n",
    "            # Canonical\n",
    "            try:\n",
    "                std_smile = std.run(smile)\n",
    "                std_smile_can = Chem.CanonSmiles(std_smile, useChiral=0)\n",
    "                mol = Chem.MolFromSmiles(std_smile)#,catchErrors=False)\n",
    "                #std_smile_can = Chem.MolToSmiles(mol,isomericSmiles=False)\n",
    "\n",
    "                if mol is None: ### Currently doesn't capture the cant kekulize mol :( \n",
    "                    print (\"Error in molfrom smiles -> skipping this molecule\")\n",
    "                    inchi_key_can = None\n",
    "                    inchi_keys_canonical.append(inchi_key)\n",
    "                    std_smiles_canonical.append(std_smile_can)\n",
    "\n",
    "                else:\n",
    "                    std_smiles_canonical.append(std_smile_can)\n",
    "                    inchi_key_can = Chem.inchi.MolToInchiKey(mol) ### INCHI AT THE MOMENT (WHICH IS WHY CHEMBL_ID ISEN'T WORKING)\n",
    "                    inchi_keys_canonical.append(inchi_key_can)\n",
    "\n",
    "            except std.StandardiseException:\n",
    "                print ('hey')\n",
    "                inchi_key_can = None\n",
    "                inchi_keys_canonical.append(inchi_key)\n",
    "                std_smile_can = None\n",
    "                std_smiles_canonical.append(std_smile_can)\n",
    "            except Chem.inchi.InchiReadWriteError:\n",
    "                inchi_key_can = None\n",
    "                inchi_keys_canonical.append(inchi_key)\n",
    "                std_smile_can = None\n",
    "                std_smiles_canonical.append(std_smile_can)\n",
    "\n",
    "        i+=1\n",
    "        print(\"std compound SMILE out of: \",i, length)\n",
    "\n",
    "    return std_smiles, std_smiles_canonical, inchi_keys, inchi_keys_canonical "
   ]
  },
  {
   "cell_type": "code",
   "execution_count": null,
   "metadata": {},
   "outputs": [],
   "source": [
    "smis = data['SMILES'].tolist()[:]\n",
    "std_smiles, std_smiles_canonical, inchi_keys, inchi_keys_canonical = std_smile_and_inchi(smis[:])\n",
    "data['std_SMILES'] = std_smiles\n",
    "data['std_SMILES_canonical'] = std_smiles_canonical\n",
    "data['std_inchi'] = inchi_keys\n",
    "data['std_inchi_canonical'] = inchi_keys_canonical"
   ]
  },
  {
   "cell_type": "code",
   "execution_count": null,
   "metadata": {},
   "outputs": [],
   "source": [
    "print(len(inchi_keys_canonical))"
   ]
  },
  {
   "cell_type": "code",
   "execution_count": null,
   "metadata": {},
   "outputs": [],
   "source": [
    "data.to_csv(\"./DrugBank_v5_1_5_processed.csv\")"
   ]
  },
  {
   "cell_type": "code",
   "execution_count": null,
   "metadata": {},
   "outputs": [],
   "source": []
  }
 ],
 "metadata": {
  "kernelspec": {
   "display_name": "Python 3",
   "language": "python",
   "name": "python3"
  },
  "language_info": {
   "codemirror_mode": {
    "name": "ipython",
    "version": 3
   },
   "file_extension": ".py",
   "mimetype": "text/x-python",
   "name": "python",
   "nbconvert_exporter": "python",
   "pygments_lexer": "ipython3",
   "version": "3.6.8"
  }
 },
 "nbformat": 4,
 "nbformat_minor": 2
}
