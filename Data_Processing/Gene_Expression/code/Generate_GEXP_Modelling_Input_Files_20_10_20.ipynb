{
 "cells": [
  {
   "cell_type": "code",
   "execution_count": 1,
   "metadata": {},
   "outputs": [],
   "source": [
    "from time import time\n",
    "import pandas as pd\n",
    "import numpy as np\n",
    "import os"
   ]
  },
  {
   "cell_type": "code",
   "execution_count": 2,
   "metadata": {},
   "outputs": [],
   "source": [
    "import warnings\n",
    "warnings.filterwarnings('ignore')"
   ]
  },
  {
   "cell_type": "markdown",
   "metadata": {},
   "source": [
    "# Import and clean relevant data"
   ]
  },
  {
   "cell_type": "code",
   "execution_count": 11,
   "metadata": {},
   "outputs": [
    {
     "name": "stdout",
     "output_type": "stream",
     "text": [
      "['Compound Name' 'standardized_smiles'] ['Compound.Name' 'Predicted.Label']\n"
     ]
    }
   ],
   "source": [
    "meta = pd.read_csv(\"../data/LINCS_metadata_Peter_July19.csv\")\n",
    "#GEXP_data = pd.read_csv(\"../data/L1000_Data_uncollapsed_all_conditionsv2_new.csv\")\n",
    "#external_test1 = pd.read_csv(\"../data/external_ambiguous_smiles.csv\")\n",
    "external_test = pd.read_csv(\"../../Challenge_Data/myname_predictions_no1_TEMPLATE.txt\")"
   ]
  },
  {
   "cell_type": "code",
   "execution_count": null,
   "metadata": {},
   "outputs": [],
   "source": [
    "meta['vDILIConcern'].unique()"
   ]
  },
  {
   "cell_type": "code",
   "execution_count": null,
   "metadata": {},
   "outputs": [],
   "source": [
    "ambiguous = external_test['Compound.Name'].tolist()\n",
    "ambiguos_meta = meta[meta['vDILIConcern'].isin(['Ambiguous DILI-concern'])]"
   ]
  },
  {
   "cell_type": "code",
   "execution_count": null,
   "metadata": {},
   "outputs": [],
   "source": [
    "temp_list = []\n",
    "for index,row in ambiguos_meta.iterrows():\n",
    "    temp_list.append(str(row['cell_id'])+'_'+str(row['pert_time'])+'_'+str(row['pert_dose'])+'_'+str(row['pert_iname']))\n",
    "\n",
    "ambiguos_meta['combined_name'] = temp_list"
   ]
  },
  {
   "cell_type": "code",
   "execution_count": null,
   "metadata": {},
   "outputs": [],
   "source": [
    "temp_list = []\n",
    "for index,row in meta.iterrows():\n",
    "    temp_list.append(str(row['cell_id'])+'_'+str(row['pert_time'])+'_'+str(row['pert_dose'])+'_'+str(row['pert_iname']))\n",
    "\n",
    "meta['combined_name'] = temp_list"
   ]
  },
  {
   "cell_type": "code",
   "execution_count": null,
   "metadata": {},
   "outputs": [],
   "source": [
    "meta.head()"
   ]
  },
  {
   "cell_type": "code",
   "execution_count": null,
   "metadata": {},
   "outputs": [],
   "source": [
    "# Split into seperate 'experiment' dataframes\n",
    "dict_of_dfs = {k: v for k, v in meta.groupby(['cell_id','pert_time','pert_dose'])} # https://datascience.stackexchange.com/questions/29825/create-new-data-frames-from-existing-data-frame-based-on-unique-column-values\n",
    "ambiguous_dict_of_dfs = {k: v for k, v in ambiguos_meta.groupby(['cell_id','pert_time','pert_dose'])}"
   ]
  },
  {
   "cell_type": "code",
   "execution_count": null,
   "metadata": {},
   "outputs": [],
   "source": [
    "dict_of_dfs['All_Cell_Lines'] = meta\n",
    "ambiguous_dict_of_dfs['All_Cell_Lines'] = ambiguos_meta"
   ]
  },
  {
   "cell_type": "code",
   "execution_count": null,
   "metadata": {},
   "outputs": [],
   "source": [
    "dict_of_best_params = {}\n",
    "\n",
    "for dic in dict_of_dfs:\n",
    "    \n",
    "    print(dic)\n",
    "    dict_of_dfs[dic]\n",
    "    id_list = dict_of_dfs[dic]['id'].tolist()\n",
    "    pert_meta = dict_of_dfs[dic]['combined_name'].tolist() # meta to discren replicates\n",
    "    pert_name = dict_of_dfs[dic]['pert_iname'].tolist()\n",
    "    DILI_label = dict_of_dfs[dic]['vDILIConcern'].tolist() # output label\n",
    "    data = GEXP_data[GEXP_data.columns & id_list]\n",
    "    data = data.T # cell-time-dose specific data\n",
    "    data['pert_meta'] = pert_meta\n",
    "    data['pert_name'] = pert_name\n",
    "    data['vDILIConcern'] = DILI_label\n",
    "\n",
    "    data.reset_index(inplace=True)\n",
    "    \n",
    "    if not os.path.exists('./Cell_line_Training_Data'):\n",
    "        os.makedirs('./Cell_line_Training_Data')\n",
    "    data.to_csv(\"./Cell_line_Training_Data/\"+str(dic)+\".csv\")"
   ]
  },
  {
   "cell_type": "markdown",
   "metadata": {},
   "source": [
    "(2) External ambiguos compounds"
   ]
  },
  {
   "cell_type": "code",
   "execution_count": null,
   "metadata": {},
   "outputs": [],
   "source": [
    "for dic in dict_of_dfs:\n",
    "    print(dic)\n",
    "    ambiguous_meta = ambiguous_dict_of_dfs[dic][ambiguous_dict_of_dfs[dic]['pert_iname'].isin(ambiguous)]\n",
    "\n",
    "    pert_name = ambiguous_meta['pert_iname'].tolist() # meta to discren replicates\n",
    "    pert_meta = ambiguous_meta['combined_name'].tolist() # meta to discren replicates\n",
    "\n",
    "    id_list = ambiguous_meta['id'].tolist()\n",
    "    data = GEXP_data[GEXP_data.columns & id_list]\n",
    "    data = data.T # cell-time-dose specific data\n",
    "    data['pert_meta'] = pert_meta\n",
    "    data['pert_name'] = pert_name\n",
    "    #print(data)\n",
    "    \n",
    "    if not os.path.exists('./Cell_line_External_Data'):\n",
    "        os.makedirs('./Cell_line_External_Data')\n",
    "    data.to_csv(\"./Cell_line_External_Data/External_\"+str(dic)+\".csv\")"
   ]
  }
 ],
 "metadata": {
  "kernelspec": {
   "display_name": "Python 3",
   "language": "python",
   "name": "python3"
  },
  "language_info": {
   "codemirror_mode": {
    "name": "ipython",
    "version": 3
   },
   "file_extension": ".py",
   "mimetype": "text/x-python",
   "name": "python",
   "nbconvert_exporter": "python",
   "pygments_lexer": "ipython3",
   "version": "3.6.8"
  }
 },
 "nbformat": 4,
 "nbformat_minor": 2
}
