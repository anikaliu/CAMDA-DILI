{
 "cells": [
  {
   "cell_type": "code",
   "execution_count": 29,
   "metadata": {},
   "outputs": [],
   "source": [
    "from time import time\n",
    "import pandas as pd\n",
    "import numpy as np\n",
    "import os"
   ]
  },
  {
   "cell_type": "code",
   "execution_count": 30,
   "metadata": {},
   "outputs": [],
   "source": [
    "import warnings\n",
    "warnings.filterwarnings('ignore')"
   ]
  },
  {
   "cell_type": "markdown",
   "metadata": {},
   "source": [
    "# Import and clean relevant data"
   ]
  },
  {
   "cell_type": "code",
   "execution_count": 42,
   "metadata": {},
   "outputs": [],
   "source": [
    "meta = pd.read_csv(\"../data/LINCS_DILI_metadata.csv\")\n",
    "GEXP_data = pd.read_csv(\"../data/L1000_Data_uncollapsed_all_conditionsv2_new.csv\")\n",
    "#external_test1 = pd.read_csv(\"../data/external_ambiguous_smiles.csv\")\n",
    "external_test = pd.read_csv(\"../../Challenge_Data/myname_predictions_no1_TEMPLATE.txt\")"
   ]
  },
  {
   "cell_type": "code",
   "execution_count": 43,
   "metadata": {},
   "outputs": [
    {
     "data": {
      "text/plain": [
       "array(['vMost-DILI-Concern', 'vLess-DILI-Concern',\n",
       "       'Ambiguous DILI-concern', 'vNo-DILI-Concern'], dtype=object)"
      ]
     },
     "execution_count": 43,
     "metadata": {},
     "output_type": "execute_result"
    }
   ],
   "source": [
    "meta['vDILIConcern'].unique()"
   ]
  },
  {
   "cell_type": "code",
   "execution_count": 44,
   "metadata": {},
   "outputs": [],
   "source": [
    "ambiguous = external_test['Compound.Name'].tolist()\n",
    "#ambiguos_meta = meta[meta['vDILIConcern'].isin(['Ambiguous DILI-concern'])]\n",
    "ambiguos_meta = ambiguos_meta.loc[ambiguos_meta['pert_iname'].isin(ambiguous)]\n",
    "meta = meta.loc[~meta['pert_iname'].isin(ambiguous)]"
   ]
  },
  {
   "cell_type": "code",
   "execution_count": 45,
   "metadata": {},
   "outputs": [
    {
     "name": "stdout",
     "output_type": "stream",
     "text": [
      "55 (1617, 31)\n"
     ]
    }
   ],
   "source": [
    "print(len(ambiguos_meta['pert_iname'].unique().tolist()),ambiguos_meta.shape)"
   ]
  },
  {
   "cell_type": "code",
   "execution_count": 46,
   "metadata": {},
   "outputs": [],
   "source": [
    "temp_list = []\n",
    "for index,row in ambiguos_meta.iterrows():\n",
    "    temp_list.append(str(row['cell_id'])+'_'+str(row['pert_time'])+'_'+str(row['pert_dose'])+'_'+str(row['pert_iname']))\n",
    "\n",
    "ambiguos_meta['combined_name'] = temp_list"
   ]
  },
  {
   "cell_type": "code",
   "execution_count": 47,
   "metadata": {},
   "outputs": [],
   "source": [
    "temp_list = []\n",
    "for index,row in meta.iterrows():\n",
    "    temp_list.append(str(row['cell_id'])+'_'+str(row['pert_time'])+'_'+str(row['pert_dose'])+'_'+str(row['pert_iname']))\n",
    "\n",
    "meta['combined_name'] = temp_list"
   ]
  },
  {
   "cell_type": "code",
   "execution_count": 48,
   "metadata": {},
   "outputs": [
    {
     "data": {
      "text/html": [
       "<div>\n",
       "<style scoped>\n",
       "    .dataframe tbody tr th:only-of-type {\n",
       "        vertical-align: middle;\n",
       "    }\n",
       "\n",
       "    .dataframe tbody tr th {\n",
       "        vertical-align: top;\n",
       "    }\n",
       "\n",
       "    .dataframe thead th {\n",
       "        text-align: right;\n",
       "    }\n",
       "</style>\n",
       "<table border=\"1\" class=\"dataframe\">\n",
       "  <thead>\n",
       "    <tr style=\"text-align: right;\">\n",
       "      <th></th>\n",
       "      <th>Unnamed: 0</th>\n",
       "      <th>id</th>\n",
       "      <th>sig_id</th>\n",
       "      <th>pert_id</th>\n",
       "      <th>pert_iname</th>\n",
       "      <th>pert_type</th>\n",
       "      <th>cell_id</th>\n",
       "      <th>pert_dose</th>\n",
       "      <th>pert_dose_unit</th>\n",
       "      <th>pert_idose</th>\n",
       "      <th>...</th>\n",
       "      <th>AdjudicatedDILI</th>\n",
       "      <th>vDILIConcern</th>\n",
       "      <th>Greene_Annotation</th>\n",
       "      <th>Sakatis_Annotation</th>\n",
       "      <th>Xu_Annotation</th>\n",
       "      <th>Zhu_Annotation</th>\n",
       "      <th>SMILES</th>\n",
       "      <th>URL..accessed.on.1.21.2016.</th>\n",
       "      <th>VER_DISP..1.LTKB.BD..2.others.</th>\n",
       "      <th>combined_name</th>\n",
       "    </tr>\n",
       "  </thead>\n",
       "  <tbody>\n",
       "    <tr>\n",
       "      <th>0</th>\n",
       "      <td>1</td>\n",
       "      <td>CPC004_A375_6H:BRD-A14966924-001-03-0:10</td>\n",
       "      <td>CPC004_A375_6H:BRD-A14966924-001-03-0:10</td>\n",
       "      <td>BRD-A14966924</td>\n",
       "      <td>alaproclate</td>\n",
       "      <td>trt_cp</td>\n",
       "      <td>A375</td>\n",
       "      <td>10.0</td>\n",
       "      <td>µM</td>\n",
       "      <td>10 µM</td>\n",
       "      <td>...</td>\n",
       "      <td>.</td>\n",
       "      <td>vMost-DILI-Concern</td>\n",
       "      <td>.</td>\n",
       "      <td>.</td>\n",
       "      <td>.</td>\n",
       "      <td>.</td>\n",
       "      <td>CC(C(=O)OC(C)(C)CC1=CC=C(C=C1)Cl)N</td>\n",
       "      <td>NaN</td>\n",
       "      <td>1</td>\n",
       "      <td>A375_6_10.0_alaproclate</td>\n",
       "    </tr>\n",
       "    <tr>\n",
       "      <th>1</th>\n",
       "      <td>2</td>\n",
       "      <td>CPC004_A375_6H:BRD-K79131256-001-08-8:10</td>\n",
       "      <td>CPC004_A375_6H:BRD-K79131256-001-08-8:10</td>\n",
       "      <td>BRD-K79131256</td>\n",
       "      <td>albendazole</td>\n",
       "      <td>trt_cp</td>\n",
       "      <td>A375</td>\n",
       "      <td>10.0</td>\n",
       "      <td>µM</td>\n",
       "      <td>10 µM</td>\n",
       "      <td>...</td>\n",
       "      <td>Yes</td>\n",
       "      <td>vMost-DILI-Concern</td>\n",
       "      <td>HH</td>\n",
       "      <td>.</td>\n",
       "      <td>Positive</td>\n",
       "      <td>Postive</td>\n",
       "      <td>CCCSC1=CC2=C(C=C1)N=C(N2)NC(=O)OC</td>\n",
       "      <td>http://dailymed.nlm.nih.gov/dailymed/drugInfo....</td>\n",
       "      <td>2</td>\n",
       "      <td>A375_6_10.0_albendazole</td>\n",
       "    </tr>\n",
       "    <tr>\n",
       "      <th>2</th>\n",
       "      <td>3</td>\n",
       "      <td>CPC004_A375_6H:BRD-A09056319-001-05-5:10</td>\n",
       "      <td>CPC004_A375_6H:BRD-A09056319-001-05-5:10</td>\n",
       "      <td>BRD-A09056319</td>\n",
       "      <td>alfuzosin</td>\n",
       "      <td>trt_cp</td>\n",
       "      <td>A375</td>\n",
       "      <td>10.0</td>\n",
       "      <td>µM</td>\n",
       "      <td>10 µM</td>\n",
       "      <td>...</td>\n",
       "      <td>Yes</td>\n",
       "      <td>vLess-DILI-Concern</td>\n",
       "      <td>.</td>\n",
       "      <td>.</td>\n",
       "      <td>.</td>\n",
       "      <td>.</td>\n",
       "      <td>CN(CCCNC(=O)C1CCCO1)C2=NC3=CC(=C(C=C3C(=N2)N)O...</td>\n",
       "      <td>http://dailymed.nlm.nih.gov/dailymed/drugInfo....</td>\n",
       "      <td>2</td>\n",
       "      <td>A375_6_10.0_alfuzosin</td>\n",
       "    </tr>\n",
       "    <tr>\n",
       "      <th>3</th>\n",
       "      <td>4</td>\n",
       "      <td>CPC004_A375_6H:BRD-K30020243-051-01-7:10</td>\n",
       "      <td>CPC004_A375_6H:BRD-K30020243-051-01-7:10</td>\n",
       "      <td>BRD-K30020243</td>\n",
       "      <td>aliskiren</td>\n",
       "      <td>trt_cp</td>\n",
       "      <td>A375</td>\n",
       "      <td>10.0</td>\n",
       "      <td>µM</td>\n",
       "      <td>10 µM</td>\n",
       "      <td>...</td>\n",
       "      <td>Yes</td>\n",
       "      <td>vLess-DILI-Concern</td>\n",
       "      <td>.</td>\n",
       "      <td>.</td>\n",
       "      <td>.</td>\n",
       "      <td>.</td>\n",
       "      <td>CC(C)[C@@H](CC1=CC(=C(C=C1)OC)OCCCOC)C[C@@H]([...</td>\n",
       "      <td>http://dailymed.nlm.nih.gov/dailymed/drugInfo....</td>\n",
       "      <td>2</td>\n",
       "      <td>A375_6_10.0_aliskiren</td>\n",
       "    </tr>\n",
       "    <tr>\n",
       "      <th>4</th>\n",
       "      <td>5</td>\n",
       "      <td>CPC004_A375_6H:BRD-K17561142-003-16-8:10</td>\n",
       "      <td>CPC004_A375_6H:BRD-K17561142-003-16-8:10</td>\n",
       "      <td>BRD-K17561142</td>\n",
       "      <td>amiodarone</td>\n",
       "      <td>trt_cp</td>\n",
       "      <td>A375</td>\n",
       "      <td>10.0</td>\n",
       "      <td>µM</td>\n",
       "      <td>10 µM</td>\n",
       "      <td>...</td>\n",
       "      <td>Yes</td>\n",
       "      <td>vMost-DILI-Concern</td>\n",
       "      <td>HH</td>\n",
       "      <td>Hepatotoxic</td>\n",
       "      <td>Positive</td>\n",
       "      <td>Postive</td>\n",
       "      <td>CCCCC1=C(C2=CC=CC=C2O1)C(=O)C3=CC(=C(C(=C3)I)O...</td>\n",
       "      <td>http://dailymed.nlm.nih.gov/dailymed/drugInfo....</td>\n",
       "      <td>1</td>\n",
       "      <td>A375_6_10.0_amiodarone</td>\n",
       "    </tr>\n",
       "  </tbody>\n",
       "</table>\n",
       "<p>5 rows × 32 columns</p>\n",
       "</div>"
      ],
      "text/plain": [
       "   Unnamed: 0                                        id  \\\n",
       "0           1  CPC004_A375_6H:BRD-A14966924-001-03-0:10   \n",
       "1           2  CPC004_A375_6H:BRD-K79131256-001-08-8:10   \n",
       "2           3  CPC004_A375_6H:BRD-A09056319-001-05-5:10   \n",
       "3           4  CPC004_A375_6H:BRD-K30020243-051-01-7:10   \n",
       "4           5  CPC004_A375_6H:BRD-K17561142-003-16-8:10   \n",
       "\n",
       "                                     sig_id        pert_id   pert_iname  \\\n",
       "0  CPC004_A375_6H:BRD-A14966924-001-03-0:10  BRD-A14966924  alaproclate   \n",
       "1  CPC004_A375_6H:BRD-K79131256-001-08-8:10  BRD-K79131256  albendazole   \n",
       "2  CPC004_A375_6H:BRD-A09056319-001-05-5:10  BRD-A09056319    alfuzosin   \n",
       "3  CPC004_A375_6H:BRD-K30020243-051-01-7:10  BRD-K30020243    aliskiren   \n",
       "4  CPC004_A375_6H:BRD-K17561142-003-16-8:10  BRD-K17561142   amiodarone   \n",
       "\n",
       "  pert_type cell_id  pert_dose pert_dose_unit pert_idose  ...  \\\n",
       "0    trt_cp    A375       10.0             µM      10 µM  ...   \n",
       "1    trt_cp    A375       10.0             µM      10 µM  ...   \n",
       "2    trt_cp    A375       10.0             µM      10 µM  ...   \n",
       "3    trt_cp    A375       10.0             µM      10 µM  ...   \n",
       "4    trt_cp    A375       10.0             µM      10 µM  ...   \n",
       "\n",
       "   AdjudicatedDILI        vDILIConcern Greene_Annotation Sakatis_Annotation  \\\n",
       "0                .  vMost-DILI-Concern                 .                  .   \n",
       "1              Yes  vMost-DILI-Concern                HH                  .   \n",
       "2              Yes  vLess-DILI-Concern                 .                  .   \n",
       "3              Yes  vLess-DILI-Concern                 .                  .   \n",
       "4              Yes  vMost-DILI-Concern                HH        Hepatotoxic   \n",
       "\n",
       "   Xu_Annotation Zhu_Annotation  \\\n",
       "0              .              .   \n",
       "1       Positive        Postive   \n",
       "2              .              .   \n",
       "3              .              .   \n",
       "4       Positive        Postive   \n",
       "\n",
       "                                              SMILES  \\\n",
       "0                 CC(C(=O)OC(C)(C)CC1=CC=C(C=C1)Cl)N   \n",
       "1                  CCCSC1=CC2=C(C=C1)N=C(N2)NC(=O)OC   \n",
       "2  CN(CCCNC(=O)C1CCCO1)C2=NC3=CC(=C(C=C3C(=N2)N)O...   \n",
       "3  CC(C)[C@@H](CC1=CC(=C(C=C1)OC)OCCCOC)C[C@@H]([...   \n",
       "4  CCCCC1=C(C2=CC=CC=C2O1)C(=O)C3=CC(=C(C(=C3)I)O...   \n",
       "\n",
       "                         URL..accessed.on.1.21.2016.  \\\n",
       "0                                                NaN   \n",
       "1  http://dailymed.nlm.nih.gov/dailymed/drugInfo....   \n",
       "2  http://dailymed.nlm.nih.gov/dailymed/drugInfo....   \n",
       "3  http://dailymed.nlm.nih.gov/dailymed/drugInfo....   \n",
       "4  http://dailymed.nlm.nih.gov/dailymed/drugInfo....   \n",
       "\n",
       "  VER_DISP..1.LTKB.BD..2.others.            combined_name  \n",
       "0                              1  A375_6_10.0_alaproclate  \n",
       "1                              2  A375_6_10.0_albendazole  \n",
       "2                              2    A375_6_10.0_alfuzosin  \n",
       "3                              2    A375_6_10.0_aliskiren  \n",
       "4                              1   A375_6_10.0_amiodarone  \n",
       "\n",
       "[5 rows x 32 columns]"
      ]
     },
     "execution_count": 48,
     "metadata": {},
     "output_type": "execute_result"
    }
   ],
   "source": [
    "meta.head()"
   ]
  },
  {
   "cell_type": "code",
   "execution_count": 49,
   "metadata": {},
   "outputs": [
    {
     "data": {
      "text/plain": [
       "0"
      ]
     },
     "execution_count": 49,
     "metadata": {},
     "output_type": "execute_result"
    }
   ],
   "source": [
    "len(list(set(meta['pert_iname'].unique().tolist()) & set(ambiguos_meta['pert_iname'].unique().tolist())))"
   ]
  },
  {
   "cell_type": "code",
   "execution_count": 50,
   "metadata": {},
   "outputs": [],
   "source": [
    "# Split into seperate 'experiment' dataframes\n",
    "dict_of_dfs = {k: v for k, v in meta.groupby(['cell_id','pert_time','pert_dose'])} # https://datascience.stackexchange.com/questions/29825/create-new-data-frames-from-existing-data-frame-based-on-unique-column-values\n",
    "ambiguous_dict_of_dfs = {k: v for k, v in ambiguos_meta.groupby(['cell_id','pert_time','pert_dose'])}"
   ]
  },
  {
   "cell_type": "code",
   "execution_count": 51,
   "metadata": {},
   "outputs": [],
   "source": [
    "dict_of_dfs['All_Cell_Lines'] = meta\n",
    "ambiguous_dict_of_dfs['All_Cell_Lines'] = ambiguos_meta"
   ]
  },
  {
   "cell_type": "code",
   "execution_count": 52,
   "metadata": {},
   "outputs": [
    {
     "name": "stdout",
     "output_type": "stream",
     "text": [
      "('A375', 6, 10.0)\n",
      "('A549', 24, 10.0)\n",
      "('ASC', 24, 10.0)\n",
      "('HA1E', 6, 10.0)\n",
      "('HCC515', 6, 10.0)\n",
      "('HEPG2', 6, 10.0)\n",
      "('HT29', 6, 10.0)\n",
      "('MCF7', 6, 10.0)\n",
      "('MCF7', 24, 10.0)\n",
      "('PC3', 6, 10.0)\n",
      "('PC3', 24, 10.0)\n",
      "('PHH', 24, 10.0)\n",
      "('SKB', 24, 10.0)\n",
      "('VCAP', 6, 10.0)\n",
      "All_Cell_Lines\n"
     ]
    }
   ],
   "source": [
    "dict_of_best_params = {}\n",
    "\n",
    "for dic in dict_of_dfs:\n",
    "    \n",
    "    print(dic)\n",
    "    dict_of_dfs[dic]\n",
    "    id_list = dict_of_dfs[dic]['id'].tolist()\n",
    "    pert_meta = dict_of_dfs[dic]['combined_name'].tolist() # meta to discren replicates\n",
    "    pert_name = dict_of_dfs[dic]['pert_iname'].tolist()\n",
    "    DILI_label = dict_of_dfs[dic]['vDILIConcern'].tolist() # output label\n",
    "    data = GEXP_data[GEXP_data.columns & id_list]\n",
    "    data = data.T # cell-time-dose specific data\n",
    "    data['pert_meta'] = pert_meta\n",
    "    data['pert_name'] = pert_name\n",
    "    data['vDILIConcern'] = DILI_label\n",
    "\n",
    "    data.reset_index(inplace=True)\n",
    "    \n",
    "    if not os.path.exists('../data/Cell_line_Training_Data'):\n",
    "        os.makedirs('../data/Cell_line_Training_Data')\n",
    "    data.to_csv(\"../data/Cell_line_Training_Data/\"+str(dic)+\".csv\")"
   ]
  },
  {
   "cell_type": "markdown",
   "metadata": {},
   "source": [
    "(2) External ambiguos compounds"
   ]
  },
  {
   "cell_type": "code",
   "execution_count": 53,
   "metadata": {},
   "outputs": [
    {
     "name": "stdout",
     "output_type": "stream",
     "text": [
      "('A375', 6, 10.0)\n",
      "('A549', 24, 10.0)\n",
      "('ASC', 24, 10.0)\n",
      "('HA1E', 6, 10.0)\n",
      "('HCC515', 6, 10.0)\n",
      "('HEPG2', 6, 10.0)\n",
      "('HT29', 6, 10.0)\n",
      "('MCF7', 6, 10.0)\n",
      "('MCF7', 24, 10.0)\n",
      "('PC3', 6, 10.0)\n",
      "('PC3', 24, 10.0)\n",
      "('PHH', 24, 10.0)\n",
      "('SKB', 24, 10.0)\n",
      "('VCAP', 6, 10.0)\n",
      "All_Cell_Lines\n"
     ]
    }
   ],
   "source": [
    "for dic in dict_of_dfs:\n",
    "    print(dic)\n",
    "    ambiguous_meta = ambiguous_dict_of_dfs[dic][ambiguous_dict_of_dfs[dic]['pert_iname'].isin(ambiguous)]\n",
    "\n",
    "    pert_name = ambiguous_meta['pert_iname'].tolist() # meta to discren replicates\n",
    "    pert_meta = ambiguous_meta['combined_name'].tolist() # meta to discren replicates\n",
    "\n",
    "    id_list = ambiguous_meta['id'].tolist()\n",
    "    data = GEXP_data[GEXP_data.columns & id_list]\n",
    "    data = data.T # cell-time-dose specific data\n",
    "    data['pert_meta'] = pert_meta\n",
    "    data['pert_name'] = pert_name\n",
    "    #print(data)\n",
    "    \n",
    "    if not os.path.exists('../data/Cell_line_External_Data'):\n",
    "        os.makedirs('../data/Cell_line_External_Data')\n",
    "    data.to_csv(\"../data/Cell_line_External_Data/External_\"+str(dic)+\".csv\")"
   ]
  },
  {
   "cell_type": "code",
   "execution_count": null,
   "metadata": {},
   "outputs": [],
   "source": []
  }
 ],
 "metadata": {
  "kernelspec": {
   "display_name": "Python 3",
   "language": "python",
   "name": "python3"
  },
  "language_info": {
   "codemirror_mode": {
    "name": "ipython",
    "version": 3
   },
   "file_extension": ".py",
   "mimetype": "text/x-python",
   "name": "python",
   "nbconvert_exporter": "python",
   "pygments_lexer": "ipython3",
   "version": "3.6.8"
  }
 },
 "nbformat": 4,
 "nbformat_minor": 2
}
