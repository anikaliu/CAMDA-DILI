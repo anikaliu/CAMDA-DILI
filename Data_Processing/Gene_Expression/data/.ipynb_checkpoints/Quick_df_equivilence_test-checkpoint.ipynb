{
 "cells": [
  {
   "cell_type": "code",
   "execution_count": 4,
   "metadata": {},
   "outputs": [],
   "source": [
    "import pandas as pd\n",
    "import glob"
   ]
  },
  {
   "cell_type": "markdown",
   "metadata": {},
   "source": [
    "# GEXP metadata"
   ]
  },
  {
   "cell_type": "code",
   "execution_count": null,
   "metadata": {},
   "outputs": [],
   "source": []
  },
  {
   "cell_type": "code",
   "execution_count": null,
   "metadata": {},
   "outputs": [],
   "source": []
  },
  {
   "cell_type": "code",
   "execution_count": 7,
   "metadata": {},
   "outputs": [
    {
     "name": "stdout",
     "output_type": "stream",
     "text": [
      "./Cell_line_Training_Data/('SKB', 24, 10).csv\n",
      "./Cell_line_Training_Data/('VCAP', 6, 10).csv\n",
      "./Cell_line_Training_Data/('A375', 6, 10).csv\n",
      "./Cell_line_Training_Data/All_Cell_Lines.csv\n",
      "./Cell_line_Training_Data/('HA1E', 6, 10).csv\n",
      "./Cell_line_Training_Data/('MCF7', 24, 10).csv\n",
      "./Cell_line_Training_Data/('ASC', 24, 10).csv\n",
      "./Cell_line_Training_Data/('HCC515', 6, 10).csv\n",
      "./Cell_line_Training_Data/('A549', 24, 10).csv\n",
      "./Cell_line_Training_Data/('HEPG2', 6, 10).csv\n",
      "./Cell_line_Training_Data/('PHH', 24, 10).csv\n",
      "./Cell_line_Training_Data/('MCF7', 6, 10).csv\n",
      "./Cell_line_Training_Data/('PC3', 6, 10).csv\n",
      "./Cell_line_Training_Data/('PC3', 24, 10).csv\n",
      "./Cell_line_Training_Data/('HT29', 6, 10).csv\n"
     ]
    }
   ],
   "source": [
    "filelist1 = []\n",
    "for file in glob.glob( \"./Cell_line_Training_Data/*.csv\" ) :\n",
    "    print(file)\n",
    "    filelist1.append(file)"
   ]
  },
  {
   "cell_type": "code",
   "execution_count": 8,
   "metadata": {},
   "outputs": [
    {
     "name": "stdout",
     "output_type": "stream",
     "text": [
      "./Cell_line_Training_Data_new/('SKB', 24, 10).csv\n",
      "./Cell_line_Training_Data_new/('VCAP', 6, 10).csv\n",
      "./Cell_line_Training_Data_new/('A375', 6, 10).csv\n",
      "./Cell_line_Training_Data_new/All_Cell_Lines.csv\n",
      "./Cell_line_Training_Data_new/('HA1E', 6, 10).csv\n",
      "./Cell_line_Training_Data_new/('MCF7', 24, 10).csv\n",
      "./Cell_line_Training_Data_new/('ASC', 24, 10).csv\n",
      "./Cell_line_Training_Data_new/('HCC515', 6, 10).csv\n",
      "./Cell_line_Training_Data_new/('A549', 24, 10).csv\n",
      "./Cell_line_Training_Data_new/('HEPG2', 6, 10).csv\n",
      "./Cell_line_Training_Data_new/('PHH', 24, 10).csv\n",
      "./Cell_line_Training_Data_new/('MCF7', 6, 10).csv\n",
      "./Cell_line_Training_Data_new/('PC3', 6, 10).csv\n",
      "./Cell_line_Training_Data_new/('PC3', 24, 10).csv\n",
      "./Cell_line_Training_Data_new/('HT29', 6, 10).csv\n"
     ]
    }
   ],
   "source": [
    "filelist2 = []\n",
    "for file in glob.glob( \"./Cell_line_Training_Data_new/*.csv\" ) :\n",
    "    print(file)\n",
    "    filelist2.append(file)"
   ]
  },
  {
   "cell_type": "code",
   "execution_count": 10,
   "metadata": {},
   "outputs": [
    {
     "name": "stdout",
     "output_type": "stream",
     "text": [
      "./Cell_line_Training_Data/('SKB', 24, 10).csv ./Cell_line_Training_Data_new/('SKB', 24, 10).csv\n",
      "False\n",
      "./Cell_line_Training_Data/('VCAP', 6, 10).csv ./Cell_line_Training_Data_new/('VCAP', 6, 10).csv\n",
      "False\n",
      "./Cell_line_Training_Data/('A375', 6, 10).csv ./Cell_line_Training_Data_new/('A375', 6, 10).csv\n",
      "False\n",
      "./Cell_line_Training_Data/All_Cell_Lines.csv ./Cell_line_Training_Data_new/All_Cell_Lines.csv\n",
      "False\n",
      "./Cell_line_Training_Data/('HA1E', 6, 10).csv ./Cell_line_Training_Data_new/('HA1E', 6, 10).csv\n",
      "False\n",
      "./Cell_line_Training_Data/('MCF7', 24, 10).csv ./Cell_line_Training_Data_new/('MCF7', 24, 10).csv\n",
      "False\n",
      "./Cell_line_Training_Data/('ASC', 24, 10).csv ./Cell_line_Training_Data_new/('ASC', 24, 10).csv\n",
      "False\n",
      "./Cell_line_Training_Data/('HCC515', 6, 10).csv ./Cell_line_Training_Data_new/('HCC515', 6, 10).csv\n",
      "False\n",
      "./Cell_line_Training_Data/('A549', 24, 10).csv ./Cell_line_Training_Data_new/('A549', 24, 10).csv\n",
      "False\n",
      "./Cell_line_Training_Data/('HEPG2', 6, 10).csv ./Cell_line_Training_Data_new/('HEPG2', 6, 10).csv\n",
      "False\n",
      "./Cell_line_Training_Data/('PHH', 24, 10).csv ./Cell_line_Training_Data_new/('PHH', 24, 10).csv\n",
      "False\n",
      "./Cell_line_Training_Data/('MCF7', 6, 10).csv ./Cell_line_Training_Data_new/('MCF7', 6, 10).csv\n",
      "False\n",
      "./Cell_line_Training_Data/('PC3', 6, 10).csv ./Cell_line_Training_Data_new/('PC3', 6, 10).csv\n",
      "False\n",
      "./Cell_line_Training_Data/('PC3', 24, 10).csv ./Cell_line_Training_Data_new/('PC3', 24, 10).csv\n",
      "False\n",
      "./Cell_line_Training_Data/('HT29', 6, 10).csv ./Cell_line_Training_Data_new/('HT29', 6, 10).csv\n",
      "False\n"
     ]
    }
   ],
   "source": [
    "for f, b in zip(filelist1, filelist2):\n",
    "    print(f, b)\n",
    "    original = pd.read_csv(f)\n",
    "    new = pd.read_csv(b)\n",
    "    print(original.equals(new))"
   ]
  },
  {
   "cell_type": "code",
   "execution_count": null,
   "metadata": {},
   "outputs": [],
   "source": []
  }
 ],
 "metadata": {
  "kernelspec": {
   "display_name": "Python 3",
   "language": "python",
   "name": "python3"
  },
  "language_info": {
   "codemirror_mode": {
    "name": "ipython",
    "version": 3
   },
   "file_extension": ".py",
   "mimetype": "text/x-python",
   "name": "python",
   "nbconvert_exporter": "python",
   "pygments_lexer": "ipython3",
   "version": "3.6.8"
  }
 },
 "nbformat": 4,
 "nbformat_minor": 2
}
