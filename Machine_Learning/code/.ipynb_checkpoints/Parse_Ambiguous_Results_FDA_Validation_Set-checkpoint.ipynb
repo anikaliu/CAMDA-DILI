{
 "cells": [
  {
   "cell_type": "code",
   "execution_count": null,
   "metadata": {},
   "outputs": [],
   "source": [
    "import glob, os\n",
    "from sklearn.metrics import classification_report\n",
    "import numpy as np\n",
    "import pandas as pd"
   ]
  },
  {
   "cell_type": "code",
   "execution_count": null,
   "metadata": {},
   "outputs": [],
   "source": [
    "print(os.getcwd())"
   ]
  },
  {
   "cell_type": "code",
   "execution_count": null,
   "metadata": {},
   "outputs": [],
   "source": [
    "os.chdir('../data/FDA_Validation_Set_Results')"
   ]
  },
  {
   "cell_type": "code",
   "execution_count": null,
   "metadata": {},
   "outputs": [],
   "source": [
    "directories = ['./Predictions_ECFP4','./Predictions_MD','.Predictions_PT']"
   ]
  },
  {
   "cell_type": "code",
   "execution_count": null,
   "metadata": {},
   "outputs": [],
   "source": [
    "def metrics_func(TP,FP,FN,TN):\n",
    "\n",
    "    \n",
    "    if TN == 0:\n",
    "        specificity=0\n",
    "        recall = TP/(TP+FN)\n",
    "        precision = TP/(TP+FP)\n",
    "        if (TN+FN) == 0:\n",
    "            MCC = 0\n",
    "        else:\n",
    "            MCC = (TP*TN - FP*FN)/(np.sqrt((TP+FP)*(TP+FN)*(TN+FP)*(TN+FN)))\n",
    "\n",
    "        \n",
    "    elif TP == 0:\n",
    "        precision = 0\n",
    "        recall=0\n",
    "        specificity = TN/(TN+FP)\n",
    "        if (FP+TP) == 0:\n",
    "            MCC = 0\n",
    "        else:\n",
    "            MCC = (TP*TN - FP*FN)/(np.sqrt((TP+FP)*(TP+FN)*(TN+FP)*(TN+FN)))\n",
    "\n",
    "\n",
    "        \n",
    "#    elif (TN+FN) ==0 or (FP+TP) == 0:\n",
    "#        MCC=0\n",
    "        \n",
    "    else:\n",
    "        specificity = TN/(TN+FP)\n",
    "        recall = TP/(TP+FN)\n",
    "        MCC = (TP*TN - FP*FN)/(np.sqrt((TP+FP)*(TP+FN)*(TN+FP)*(TN+FN)))\n",
    "        precision = TP/(TP+FP)\n",
    "    \n",
    "    \n",
    "    balanced_accuracy = (specificity+recall)/2\n",
    "    accuracy = (TP+TN)/(TP+TN+FP+FN)\n",
    "    \n",
    "    return precision,recall,specificity,balanced_accuracy,accuracy,MCC"
   ]
  },
  {
   "cell_type": "code",
   "execution_count": null,
   "metadata": {},
   "outputs": [],
   "source": [
    "faulty_file_dirs = []\n",
    "for result_dir in directories:\n",
    "    #df = pd.DataFrame(data=None, columns=['model','precision','recall','balanced_accuracy','MCC'])\n",
    "    list_of_lists = []\n",
    "    for file in os.listdir(result_dir):\n",
    "        if file.endswith(\".txt\"):\n",
    "            print(os.path.join(result_dir, file))\n",
    "            f = open(os.path.join(result_dir, file), 'r')\n",
    "            try:\n",
    "\n",
    "                content = [line.rstrip('\\n') for line in f]\n",
    "                print(content)\n",
    "                \n",
    "                \n",
    "                size=sum(1 for _ in content)\n",
    "                print(size)\n",
    "                \n",
    "                \n",
    "                print(type(content[1].split(\",\")[0]),content[1].split(\",\")[0])\n",
    "                \n",
    "                p = content[1].split(\",\")[0].replace('\"', '')\n",
    "                print(p)\n",
    "                if p == str(\"1\"): # if never predicted 0 missing line\n",
    "                    print(\"wow1\")\n",
    "                    TN = 0\n",
    "                    FN = 0\n",
    "                    FP = int(content[1].split(\",\")[1])\n",
    "                    TP = int(content[1].split(\",\")[2])\n",
    "                    \n",
    "                elif p == str(\"0\") and size == 2 : # if never predicted 1\n",
    "                    print(\"wow2\")\n",
    "                    TN = int(content[1].split(\",\")[1])\n",
    "                    FN = int(content[1].split(\",\")[2])\n",
    "                    FP = 0\n",
    "                    TP = 0\n",
    "                    print(TN,FN,FP,TP)\n",
    "\n",
    "                else:\n",
    "\n",
    "                    TN = int(content[1].split(\",\")[1])\n",
    "                    FN = int(content[1].split(\",\")[2])\n",
    "                    FP = int(content[2].split(\",\")[1])\n",
    "                    TP = int(content[2].split(\",\")[2])\n",
    "\n",
    "\n",
    "                p,r,sen,ba,a,mcc = metrics_func(TP,FP,FN,TN)\n",
    "\n",
    "                list_of_lists.append([file,p,r,sen,ba,a,mcc])\n",
    "                \n",
    "            except:\n",
    "                print('ERROR')\n",
    "                break\n",
    "                \n",
    "                faulty_file_dirs.append(os.path.join(result_dir, file))\n",
    "                list_of_lists.append([file,None,None,None,None,None,None])\n",
    "                \n",
    "            finally:\n",
    "                f.close()\n",
    "    df = pd.DataFrame(list_of_lists,columns=['model','precision','recall','specificity','balanced_accuracy','accuracy','MCC'])\n",
    "    df['model'] = df['model'].str[4:]\n",
    "    df['model'] = df['model'].str[:-4]\n",
    "    df.replace('_', '.', regex=True, inplace=True)\n",
    "    #df['model'] = df['model'].replace(\"_\", \".\")\n",
    "    df.rename(columns={\"model\": \"splits\"},inplace=True)\n",
    "    df.to_csv(result_dir+\"/ambiguous_results.csv\")"
   ]
  },
  {
   "cell_type": "code",
   "execution_count": null,
   "metadata": {},
   "outputs": [],
   "source": [
    "faulty_file_dirs"
   ]
  },
  {
   "cell_type": "code",
   "execution_count": null,
   "metadata": {
    "scrolled": true
   },
   "outputs": [],
   "source": [
    "df"
   ]
  },
  {
   "cell_type": "code",
   "execution_count": null,
   "metadata": {},
   "outputs": [],
   "source": []
  }
 ],
 "metadata": {
  "kernelspec": {
   "display_name": "Python 3",
   "language": "python",
   "name": "python3"
  },
  "language_info": {
   "codemirror_mode": {
    "name": "ipython",
    "version": 3
   },
   "file_extension": ".py",
   "mimetype": "text/x-python",
   "name": "python",
   "nbconvert_exporter": "python",
   "pygments_lexer": "ipython3",
   "version": "3.6.8"
  }
 },
 "nbformat": 4,
 "nbformat_minor": 2
}
