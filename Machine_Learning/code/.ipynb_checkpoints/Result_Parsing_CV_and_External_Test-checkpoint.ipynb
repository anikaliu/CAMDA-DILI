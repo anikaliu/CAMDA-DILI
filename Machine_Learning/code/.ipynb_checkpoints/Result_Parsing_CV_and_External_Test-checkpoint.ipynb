{
 "cells": [
  {
   "cell_type": "code",
   "execution_count": 1,
   "metadata": {},
   "outputs": [],
   "source": [
    "import pandas as pd\n",
    "import numpy as np\n",
    "import glob, os\n",
    "import pickle"
   ]
  },
  {
   "cell_type": "code",
   "execution_count": 2,
   "metadata": {},
   "outputs": [
    {
     "name": "stdout",
     "output_type": "stream",
     "text": [
      "/Users/psrw2/OneDrive - University Of Cambridge/GitHub/CAMDA-DILI/Machine_Learning/code\n"
     ]
    }
   ],
   "source": [
    "print(os.getcwd())"
   ]
  },
  {
   "cell_type": "code",
   "execution_count": 4,
   "metadata": {},
   "outputs": [],
   "source": [
    "os.chdir('../data/Model_Results_Parameters')"
   ]
  },
  {
   "cell_type": "code",
   "execution_count": 5,
   "metadata": {},
   "outputs": [],
   "source": [
    "directories = ['./ECFP','./MD','./PT']"
   ]
  },
  {
   "cell_type": "code",
   "execution_count": 6,
   "metadata": {},
   "outputs": [
    {
     "name": "stdout",
     "output_type": "stream",
     "text": [
      "PT\n",
      "MD\n",
      "ECFP\n",
      "PT\n",
      "MD\n",
      "ECFP\n"
     ]
    }
   ],
   "source": [
    "models = []\n",
    "RF_cv = {}\n",
    "RF_test = {}\n",
    "SVM_cv = {}\n",
    "SVM_test = {}\n",
    "i=0\n",
    "for file in glob.glob('./**/cv_scores*'):\n",
    "    model = file.split('/')[1]\n",
    "    print(model)\n",
    "    CV_data = pd.read_csv(file)\n",
    "    #print(CV_data)\n",
    "    RF_models_cv = CV_data[CV_data['splits'].str.contains(\"MCNC.RF.1\" + \"\\.\")]\n",
    "    SVM_models_cv = CV_data[CV_data['splits'].str.contains(\"MCNC.SVM.1\" + \"\\.\")]\n",
    "    \n",
    "\n",
    "\n",
    "    RF_test['RF_'+model+'_internal_cv'] = [str(round(RF_models_cv.mean(axis=0)[i],3)) +\"\\u00B1\"+ str(round(RF_models_cv.std(axis=0)[i],3)) for i in range(len(RF_models_cv.median(axis=0)))]\n",
    "    SVM_test['SVM_'+model+'_internal_cv'] = [str(round(SVM_models_cv.mean(axis=0)[i],3)) +\"\\u00B1\"+ str(round(SVM_models_cv.std(axis=0)[i],3)) for i in range(len(SVM_models_cv.median(axis=0)))]\n",
    "    \n",
    "    \n",
    "i=0\n",
    "for file in glob.glob('./**/test_scores*'):\n",
    "    model = file.split('/')[1]\n",
    "    print(model)\n",
    "    Test_data = pd.read_csv(file)\n",
    "    \n",
    "\n",
    "\n",
    "    \n",
    "    \n",
    "    RF_models_ts = Test_data[Test_data['splits'].str.contains(\"MCNC.RF.1\" + \"\\.\")]\n",
    "    SVM_models_ts = Test_data[Test_data['splits'].str.contains(\"MCNC.SVM.1\" + \"\\.\")]\n",
    "\n",
    "    \n",
    "    RF_test['RF_'+model+'_internal_test'] = [str(round(RF_models_ts.mean(axis=0)[i],3)) +\"\\u00B1\"+ str(round(RF_models_ts.std(axis=0)[i],3)) for i in range(len(RF_models_ts.median(axis=0)))] \n",
    "    SVM_test['SVM_'+model+'_internal_test'] = [str(round(SVM_models_ts.mean(axis=0)[i],3)) +\"\\u00B1\"+ str(round(SVM_models_ts.std(axis=0)[i],3)) for i in range(len(SVM_models_ts.median(axis=0)))]\n",
    "    \n"
   ]
  },
  {
   "cell_type": "code",
   "execution_count": 7,
   "metadata": {},
   "outputs": [
    {
     "data": {
      "text/plain": [
       "{'SVM_PT_internal_cv': ['0.728±0.049',\n",
       "  '0.728±0.048',\n",
       "  '0.725±0.088',\n",
       "  '0.68±0.08',\n",
       "  '0.765±0.072',\n",
       "  '0.793±0.056',\n",
       "  '0.457±0.097'],\n",
       " 'SVM_MD_internal_cv': ['0.648±0.064',\n",
       "  '0.643±0.063',\n",
       "  '0.609±0.099',\n",
       "  '0.595±0.077',\n",
       "  '0.599±0.088',\n",
       "  '0.674±0.07',\n",
       "  '0.287±0.127'],\n",
       " 'SVM_ECFP_internal_cv': ['0.717±0.058',\n",
       "  '0.714±0.058',\n",
       "  '0.697±0.078',\n",
       "  '0.671±0.075',\n",
       "  '0.712±0.083',\n",
       "  '0.769±0.063',\n",
       "  '0.429±0.116'],\n",
       " 'SVM_PT_internal_test': ['0.757±0.042',\n",
       "  '0.753±0.039',\n",
       "  '0.722±0.076',\n",
       "  '0.727±0.073',\n",
       "  '0.815±0.062',\n",
       "  '0.837±0.043',\n",
       "  '0.511±0.081'],\n",
       " 'SVM_MD_internal_test': ['0.701±0.069',\n",
       "  '0.695±0.068',\n",
       "  '0.649±0.082',\n",
       "  '0.662±0.093',\n",
       "  '0.644±0.11',\n",
       "  '0.718±0.064',\n",
       "  '0.393±0.14'],\n",
       " 'SVM_ECFP_internal_test': ['0.763±0.026',\n",
       "  '0.759±0.027',\n",
       "  '0.724±0.084',\n",
       "  '0.736±0.056',\n",
       "  '0.778±0.065',\n",
       "  '0.824±0.034',\n",
       "  '0.523±0.054']}"
      ]
     },
     "execution_count": 7,
     "metadata": {},
     "output_type": "execute_result"
    }
   ],
   "source": [
    "SVM_test"
   ]
  },
  {
   "cell_type": "code",
   "execution_count": 8,
   "metadata": {},
   "outputs": [
    {
     "data": {
      "text/html": [
       "<div>\n",
       "<style scoped>\n",
       "    .dataframe tbody tr th:only-of-type {\n",
       "        vertical-align: middle;\n",
       "    }\n",
       "\n",
       "    .dataframe tbody tr th {\n",
       "        vertical-align: top;\n",
       "    }\n",
       "\n",
       "    .dataframe thead th {\n",
       "        text-align: right;\n",
       "    }\n",
       "</style>\n",
       "<table border=\"1\" class=\"dataframe\">\n",
       "  <thead>\n",
       "    <tr style=\"text-align: right;\">\n",
       "      <th></th>\n",
       "      <th>accuracy</th>\n",
       "      <th>balanced_accuracy</th>\n",
       "      <th>recall</th>\n",
       "      <th>precision</th>\n",
       "      <th>AU_Prec_Rec_Curve</th>\n",
       "      <th>ROC_AUC</th>\n",
       "      <th>MCC</th>\n",
       "    </tr>\n",
       "  </thead>\n",
       "  <tbody>\n",
       "    <tr>\n",
       "      <th>SVM_PT_internal_cv</th>\n",
       "      <td>0.728±0.049</td>\n",
       "      <td>0.728±0.048</td>\n",
       "      <td>0.725±0.088</td>\n",
       "      <td>0.68±0.08</td>\n",
       "      <td>0.765±0.072</td>\n",
       "      <td>0.793±0.056</td>\n",
       "      <td>0.457±0.097</td>\n",
       "    </tr>\n",
       "    <tr>\n",
       "      <th>SVM_MD_internal_cv</th>\n",
       "      <td>0.648±0.064</td>\n",
       "      <td>0.643±0.063</td>\n",
       "      <td>0.609±0.099</td>\n",
       "      <td>0.595±0.077</td>\n",
       "      <td>0.599±0.088</td>\n",
       "      <td>0.674±0.07</td>\n",
       "      <td>0.287±0.127</td>\n",
       "    </tr>\n",
       "    <tr>\n",
       "      <th>SVM_ECFP_internal_cv</th>\n",
       "      <td>0.717±0.058</td>\n",
       "      <td>0.714±0.058</td>\n",
       "      <td>0.697±0.078</td>\n",
       "      <td>0.671±0.075</td>\n",
       "      <td>0.712±0.083</td>\n",
       "      <td>0.769±0.063</td>\n",
       "      <td>0.429±0.116</td>\n",
       "    </tr>\n",
       "    <tr>\n",
       "      <th>SVM_PT_internal_test</th>\n",
       "      <td>0.757±0.042</td>\n",
       "      <td>0.753±0.039</td>\n",
       "      <td>0.722±0.076</td>\n",
       "      <td>0.727±0.073</td>\n",
       "      <td>0.815±0.062</td>\n",
       "      <td>0.837±0.043</td>\n",
       "      <td>0.511±0.081</td>\n",
       "    </tr>\n",
       "    <tr>\n",
       "      <th>SVM_MD_internal_test</th>\n",
       "      <td>0.701±0.069</td>\n",
       "      <td>0.695±0.068</td>\n",
       "      <td>0.649±0.082</td>\n",
       "      <td>0.662±0.093</td>\n",
       "      <td>0.644±0.11</td>\n",
       "      <td>0.718±0.064</td>\n",
       "      <td>0.393±0.14</td>\n",
       "    </tr>\n",
       "    <tr>\n",
       "      <th>SVM_ECFP_internal_test</th>\n",
       "      <td>0.763±0.026</td>\n",
       "      <td>0.759±0.027</td>\n",
       "      <td>0.724±0.084</td>\n",
       "      <td>0.736±0.056</td>\n",
       "      <td>0.778±0.065</td>\n",
       "      <td>0.824±0.034</td>\n",
       "      <td>0.523±0.054</td>\n",
       "    </tr>\n",
       "  </tbody>\n",
       "</table>\n",
       "</div>"
      ],
      "text/plain": [
       "                           accuracy balanced_accuracy       recall  \\\n",
       "SVM_PT_internal_cv      0.728±0.049       0.728±0.048  0.725±0.088   \n",
       "SVM_MD_internal_cv      0.648±0.064       0.643±0.063  0.609±0.099   \n",
       "SVM_ECFP_internal_cv    0.717±0.058       0.714±0.058  0.697±0.078   \n",
       "SVM_PT_internal_test    0.757±0.042       0.753±0.039  0.722±0.076   \n",
       "SVM_MD_internal_test    0.701±0.069       0.695±0.068  0.649±0.082   \n",
       "SVM_ECFP_internal_test  0.763±0.026       0.759±0.027  0.724±0.084   \n",
       "\n",
       "                          precision AU_Prec_Rec_Curve      ROC_AUC  \\\n",
       "SVM_PT_internal_cv        0.68±0.08       0.765±0.072  0.793±0.056   \n",
       "SVM_MD_internal_cv      0.595±0.077       0.599±0.088   0.674±0.07   \n",
       "SVM_ECFP_internal_cv    0.671±0.075       0.712±0.083  0.769±0.063   \n",
       "SVM_PT_internal_test    0.727±0.073       0.815±0.062  0.837±0.043   \n",
       "SVM_MD_internal_test    0.662±0.093        0.644±0.11  0.718±0.064   \n",
       "SVM_ECFP_internal_test  0.736±0.056       0.778±0.065  0.824±0.034   \n",
       "\n",
       "                                MCC  \n",
       "SVM_PT_internal_cv      0.457±0.097  \n",
       "SVM_MD_internal_cv      0.287±0.127  \n",
       "SVM_ECFP_internal_cv    0.429±0.116  \n",
       "SVM_PT_internal_test    0.511±0.081  \n",
       "SVM_MD_internal_test     0.393±0.14  \n",
       "SVM_ECFP_internal_test  0.523±0.054  "
      ]
     },
     "execution_count": 8,
     "metadata": {},
     "output_type": "execute_result"
    }
   ],
   "source": [
    "pd.DataFrame.from_dict(SVM_test,orient='index', columns=['accuracy','balanced_accuracy','recall','precision','AU_Prec_Rec_Curve','ROC_AUC','MCC'])# "
   ]
  },
  {
   "cell_type": "code",
   "execution_count": 9,
   "metadata": {},
   "outputs": [],
   "source": [
    "RF_test = pd.DataFrame.from_dict(RF_test,orient='index', columns=['accuracy','balanced_accuracy','recall','precision','AU_Prec_Rec_Curve','ROC_AUC','MCC'])\n",
    "SVM_test = pd.DataFrame.from_dict(SVM_test,orient='index', columns=['accuracy','balanced_accuracy','recall','precision','AU_Prec_Rec_Curve','ROC_AUC','MCC'])"
   ]
  },
  {
   "cell_type": "code",
   "execution_count": 10,
   "metadata": {},
   "outputs": [],
   "source": [
    "SVM_test.to_csv(\"./ECFP4_MD_PT_SVM_results_table.csv\")\n",
    "RF_test.to_csv(\"./ECFP4_MD_PT_RF_results_table.csv\")"
   ]
  },
  {
   "cell_type": "code",
   "execution_count": null,
   "metadata": {},
   "outputs": [],
   "source": []
  }
 ],
 "metadata": {
  "kernelspec": {
   "display_name": "Python 3",
   "language": "python",
   "name": "python3"
  },
  "language_info": {
   "codemirror_mode": {
    "name": "ipython",
    "version": 3
   },
   "file_extension": ".py",
   "mimetype": "text/x-python",
   "name": "python",
   "nbconvert_exporter": "python",
   "pygments_lexer": "ipython3",
   "version": "3.6.8"
  }
 },
 "nbformat": 4,
 "nbformat_minor": 2
}
