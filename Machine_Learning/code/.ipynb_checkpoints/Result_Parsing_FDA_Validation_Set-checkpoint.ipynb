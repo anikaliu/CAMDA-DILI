{
 "cells": [
  {
   "cell_type": "code",
   "execution_count": 1,
   "metadata": {},
   "outputs": [],
   "source": [
    "import pandas as pd\n",
    "import numpy as np\n",
    "import glob, os"
   ]
  },
  {
   "cell_type": "code",
   "execution_count": 2,
   "metadata": {},
   "outputs": [
    {
     "name": "stdout",
     "output_type": "stream",
     "text": [
      "/Users/psrw2/OneDrive - University Of Cambridge/GitHub/CAMDA-DILI/Machine_Learning/code\n"
     ]
    }
   ],
   "source": [
    "print(os.getcwd())"
   ]
  },
  {
   "cell_type": "code",
   "execution_count": 3,
   "metadata": {},
   "outputs": [],
   "source": [
    "os.chdir('../data/FDA_Validation_Set_Results')"
   ]
  },
  {
   "cell_type": "code",
   "execution_count": 4,
   "metadata": {},
   "outputs": [],
   "source": [
    "directories = ['./Predictions_ECFP4','./Predictions_MD','./Predictions_PT']"
   ]
  },
  {
   "cell_type": "code",
   "execution_count": 9,
   "metadata": {},
   "outputs": [
    {
     "name": "stdout",
     "output_type": "stream",
     "text": [
      "./Predictions_MD/ambiguous_results.csv\n",
      "./Predictions_ECFP4/ambiguous_results.csv\n",
      "./Predictions_PT/ambiguous_results.csv\n"
     ]
    }
   ],
   "source": [
    "RF_test = {}\n",
    "SVM_test = {}\n",
    "i=0\n",
    "for file in glob.glob('./**/ambiguous_results.csv'):\n",
    "    model = file.split('/')[1]\n",
    "    print(file)\n",
    "    Test_data = pd.read_csv(file)\n",
    "    Test_data.drop(Test_data.columns[0],axis=1,inplace=True) # drop index column\n",
    "    RF_models_ts = Test_data[Test_data['splits'].str.contains(\"MCNC.RF\")]\n",
    "    SVM_models_ts = Test_data[Test_data['splits'].str.contains(\"MCNC.SVM\")]\n",
    "\n",
    "    \n",
    "    RF_test['RF_'+model+'_FDA'] = [str(round(RF_models_ts.mean(axis=0)[i],3)) +\"\\u00B1\"+ str(round(RF_models_ts.std(axis=0)[i],3)) for i in range(len(RF_models_ts.mean(axis=0)))] \n",
    "    SVM_test['SVM_'+model+'_FDA'] = [str(round(SVM_models_ts.mean(axis=0)[i],3)) +\"\\u00B1\"+ str(round(SVM_models_ts.std(axis=0)[i],3)) for i in range(len(SVM_models_ts.mean(axis=0)))] "
   ]
  },
  {
   "cell_type": "code",
   "execution_count": 10,
   "metadata": {},
   "outputs": [
    {
     "data": {
      "text/html": [
       "<div>\n",
       "<style scoped>\n",
       "    .dataframe tbody tr th:only-of-type {\n",
       "        vertical-align: middle;\n",
       "    }\n",
       "\n",
       "    .dataframe tbody tr th {\n",
       "        vertical-align: top;\n",
       "    }\n",
       "\n",
       "    .dataframe thead th {\n",
       "        text-align: right;\n",
       "    }\n",
       "</style>\n",
       "<table border=\"1\" class=\"dataframe\">\n",
       "  <thead>\n",
       "    <tr style=\"text-align: right;\">\n",
       "      <th></th>\n",
       "      <th>splits</th>\n",
       "      <th>precision</th>\n",
       "      <th>recall</th>\n",
       "      <th>specificity</th>\n",
       "      <th>balanced_accuracy</th>\n",
       "      <th>accuracy</th>\n",
       "      <th>MCC</th>\n",
       "    </tr>\n",
       "  </thead>\n",
       "  <tbody>\n",
       "    <tr>\n",
       "      <th>0</th>\n",
       "      <td>MCLCNC.SVM.1.7</td>\n",
       "      <td>0.361111</td>\n",
       "      <td>0.764706</td>\n",
       "      <td>0.28125</td>\n",
       "      <td>0.522978</td>\n",
       "      <td>0.448980</td>\n",
       "      <td>0.049547</td>\n",
       "    </tr>\n",
       "    <tr>\n",
       "      <th>3</th>\n",
       "      <td>MCLCNC.SVM.1.6</td>\n",
       "      <td>0.333333</td>\n",
       "      <td>0.764706</td>\n",
       "      <td>0.18750</td>\n",
       "      <td>0.476103</td>\n",
       "      <td>0.387755</td>\n",
       "      <td>-0.056447</td>\n",
       "    </tr>\n",
       "    <tr>\n",
       "      <th>4</th>\n",
       "      <td>MCLCNC.SVM.1.4</td>\n",
       "      <td>0.342857</td>\n",
       "      <td>0.705882</td>\n",
       "      <td>0.28125</td>\n",
       "      <td>0.493566</td>\n",
       "      <td>0.428571</td>\n",
       "      <td>-0.013558</td>\n",
       "    </tr>\n",
       "    <tr>\n",
       "      <th>7</th>\n",
       "      <td>MCLCNC.SVM.1.5</td>\n",
       "      <td>0.342105</td>\n",
       "      <td>0.764706</td>\n",
       "      <td>0.21875</td>\n",
       "      <td>0.491728</td>\n",
       "      <td>0.408163</td>\n",
       "      <td>-0.018874</td>\n",
       "    </tr>\n",
       "    <tr>\n",
       "      <th>8</th>\n",
       "      <td>MCLCNC.SVM.1.1</td>\n",
       "      <td>0.342105</td>\n",
       "      <td>0.764706</td>\n",
       "      <td>0.21875</td>\n",
       "      <td>0.491728</td>\n",
       "      <td>0.408163</td>\n",
       "      <td>-0.018874</td>\n",
       "    </tr>\n",
       "    <tr>\n",
       "      <th>11</th>\n",
       "      <td>MCLCNC.SVM.1.2</td>\n",
       "      <td>0.361111</td>\n",
       "      <td>0.764706</td>\n",
       "      <td>0.28125</td>\n",
       "      <td>0.522978</td>\n",
       "      <td>0.448980</td>\n",
       "      <td>0.049547</td>\n",
       "    </tr>\n",
       "    <tr>\n",
       "      <th>14</th>\n",
       "      <td>MCLCNC.SVM.1.3</td>\n",
       "      <td>0.361111</td>\n",
       "      <td>0.764706</td>\n",
       "      <td>0.28125</td>\n",
       "      <td>0.522978</td>\n",
       "      <td>0.448980</td>\n",
       "      <td>0.049547</td>\n",
       "    </tr>\n",
       "    <tr>\n",
       "      <th>56</th>\n",
       "      <td>MCLCNC.SVM.1.10</td>\n",
       "      <td>0.342857</td>\n",
       "      <td>0.705882</td>\n",
       "      <td>0.28125</td>\n",
       "      <td>0.493566</td>\n",
       "      <td>0.428571</td>\n",
       "      <td>-0.013558</td>\n",
       "    </tr>\n",
       "    <tr>\n",
       "      <th>58</th>\n",
       "      <td>MCLCNC.SVM.1.8</td>\n",
       "      <td>0.333333</td>\n",
       "      <td>0.705882</td>\n",
       "      <td>0.25000</td>\n",
       "      <td>0.477941</td>\n",
       "      <td>0.408163</td>\n",
       "      <td>-0.047565</td>\n",
       "    </tr>\n",
       "    <tr>\n",
       "      <th>59</th>\n",
       "      <td>MCLCNC.SVM.1.9</td>\n",
       "      <td>0.342857</td>\n",
       "      <td>0.705882</td>\n",
       "      <td>0.28125</td>\n",
       "      <td>0.493566</td>\n",
       "      <td>0.428571</td>\n",
       "      <td>-0.013558</td>\n",
       "    </tr>\n",
       "  </tbody>\n",
       "</table>\n",
       "</div>"
      ],
      "text/plain": [
       "             splits  precision    recall  specificity  balanced_accuracy  \\\n",
       "0    MCLCNC.SVM.1.7   0.361111  0.764706      0.28125           0.522978   \n",
       "3    MCLCNC.SVM.1.6   0.333333  0.764706      0.18750           0.476103   \n",
       "4    MCLCNC.SVM.1.4   0.342857  0.705882      0.28125           0.493566   \n",
       "7    MCLCNC.SVM.1.5   0.342105  0.764706      0.21875           0.491728   \n",
       "8    MCLCNC.SVM.1.1   0.342105  0.764706      0.21875           0.491728   \n",
       "11   MCLCNC.SVM.1.2   0.361111  0.764706      0.28125           0.522978   \n",
       "14   MCLCNC.SVM.1.3   0.361111  0.764706      0.28125           0.522978   \n",
       "56  MCLCNC.SVM.1.10   0.342857  0.705882      0.28125           0.493566   \n",
       "58   MCLCNC.SVM.1.8   0.333333  0.705882      0.25000           0.477941   \n",
       "59   MCLCNC.SVM.1.9   0.342857  0.705882      0.28125           0.493566   \n",
       "\n",
       "    accuracy       MCC  \n",
       "0   0.448980  0.049547  \n",
       "3   0.387755 -0.056447  \n",
       "4   0.428571 -0.013558  \n",
       "7   0.408163 -0.018874  \n",
       "8   0.408163 -0.018874  \n",
       "11  0.448980  0.049547  \n",
       "14  0.448980  0.049547  \n",
       "56  0.428571 -0.013558  \n",
       "58  0.408163 -0.047565  \n",
       "59  0.428571 -0.013558  "
      ]
     },
     "execution_count": 10,
     "metadata": {},
     "output_type": "execute_result"
    }
   ],
   "source": [
    "SVM_models_ts"
   ]
  },
  {
   "cell_type": "code",
   "execution_count": 11,
   "metadata": {},
   "outputs": [
    {
     "data": {
      "text/html": [
       "<div>\n",
       "<style scoped>\n",
       "    .dataframe tbody tr th:only-of-type {\n",
       "        vertical-align: middle;\n",
       "    }\n",
       "\n",
       "    .dataframe tbody tr th {\n",
       "        vertical-align: top;\n",
       "    }\n",
       "\n",
       "    .dataframe thead th {\n",
       "        text-align: right;\n",
       "    }\n",
       "</style>\n",
       "<table border=\"1\" class=\"dataframe\">\n",
       "  <thead>\n",
       "    <tr style=\"text-align: right;\">\n",
       "      <th></th>\n",
       "      <th>precision</th>\n",
       "      <th>recall</th>\n",
       "      <th>specificity</th>\n",
       "      <th>balanced_accuracy</th>\n",
       "      <th>accuracy</th>\n",
       "      <th>MCC</th>\n",
       "    </tr>\n",
       "  </thead>\n",
       "  <tbody>\n",
       "    <tr>\n",
       "      <th>SVM_Predictions_MD_FDA</th>\n",
       "      <td>0.331±0.008</td>\n",
       "      <td>0.471±0.0</td>\n",
       "      <td>0.494±0.02</td>\n",
       "      <td>0.482±0.01</td>\n",
       "      <td>0.486±0.013</td>\n",
       "      <td>-0.034±0.019</td>\n",
       "    </tr>\n",
       "    <tr>\n",
       "      <th>SVM_Predictions_ECFP4_FDA</th>\n",
       "      <td>0.385±0.002</td>\n",
       "      <td>0.729±0.03</td>\n",
       "      <td>0.381±0.032</td>\n",
       "      <td>0.555±0.001</td>\n",
       "      <td>0.502±0.011</td>\n",
       "      <td>0.111±0.001</td>\n",
       "    </tr>\n",
       "    <tr>\n",
       "      <th>SVM_Predictions_PT_FDA</th>\n",
       "      <td>0.346±0.011</td>\n",
       "      <td>0.741±0.03</td>\n",
       "      <td>0.256±0.035</td>\n",
       "      <td>0.499±0.018</td>\n",
       "      <td>0.424±0.021</td>\n",
       "      <td>-0.003±0.039</td>\n",
       "    </tr>\n",
       "  </tbody>\n",
       "</table>\n",
       "</div>"
      ],
      "text/plain": [
       "                             precision      recall  specificity  \\\n",
       "SVM_Predictions_MD_FDA     0.331±0.008   0.471±0.0   0.494±0.02   \n",
       "SVM_Predictions_ECFP4_FDA  0.385±0.002  0.729±0.03  0.381±0.032   \n",
       "SVM_Predictions_PT_FDA     0.346±0.011  0.741±0.03  0.256±0.035   \n",
       "\n",
       "                          balanced_accuracy     accuracy           MCC  \n",
       "SVM_Predictions_MD_FDA           0.482±0.01  0.486±0.013  -0.034±0.019  \n",
       "SVM_Predictions_ECFP4_FDA       0.555±0.001  0.502±0.011   0.111±0.001  \n",
       "SVM_Predictions_PT_FDA          0.499±0.018  0.424±0.021  -0.003±0.039  "
      ]
     },
     "execution_count": 11,
     "metadata": {},
     "output_type": "execute_result"
    }
   ],
   "source": [
    "pd.DataFrame.from_dict(SVM_test,orient='index', columns=['precision','recall','specificity','balanced_accuracy','accuracy','MCC'])"
   ]
  },
  {
   "cell_type": "code",
   "execution_count": 12,
   "metadata": {},
   "outputs": [
    {
     "data": {
      "text/html": [
       "<div>\n",
       "<style scoped>\n",
       "    .dataframe tbody tr th:only-of-type {\n",
       "        vertical-align: middle;\n",
       "    }\n",
       "\n",
       "    .dataframe tbody tr th {\n",
       "        vertical-align: top;\n",
       "    }\n",
       "\n",
       "    .dataframe thead th {\n",
       "        text-align: right;\n",
       "    }\n",
       "</style>\n",
       "<table border=\"1\" class=\"dataframe\">\n",
       "  <thead>\n",
       "    <tr style=\"text-align: right;\">\n",
       "      <th></th>\n",
       "      <th>precision</th>\n",
       "      <th>recall</th>\n",
       "      <th>specificity</th>\n",
       "      <th>balanced_accuracy</th>\n",
       "      <th>accuracy</th>\n",
       "      <th>MCC</th>\n",
       "    </tr>\n",
       "  </thead>\n",
       "  <tbody>\n",
       "    <tr>\n",
       "      <th>RF_Predictions_MD_FDA</th>\n",
       "      <td>0.404±0.015</td>\n",
       "      <td>0.947±0.043</td>\n",
       "      <td>0.259±0.026</td>\n",
       "      <td>0.603±0.027</td>\n",
       "      <td>0.498±0.024</td>\n",
       "      <td>0.253±0.067</td>\n",
       "    </tr>\n",
       "    <tr>\n",
       "      <th>RF_Predictions_ECFP4_FDA</th>\n",
       "      <td>0.362±0.016</td>\n",
       "      <td>0.712±0.033</td>\n",
       "      <td>0.334±0.033</td>\n",
       "      <td>0.523±0.024</td>\n",
       "      <td>0.465±0.025</td>\n",
       "      <td>0.047±0.049</td>\n",
       "    </tr>\n",
       "    <tr>\n",
       "      <th>RF_Predictions_PT_FDA</th>\n",
       "      <td>0.343±0.009</td>\n",
       "      <td>0.976±0.03</td>\n",
       "      <td>0.006±0.013</td>\n",
       "      <td>0.491±0.019</td>\n",
       "      <td>0.343±0.016</td>\n",
       "      <td>-0.058±0.127</td>\n",
       "    </tr>\n",
       "  </tbody>\n",
       "</table>\n",
       "</div>"
      ],
      "text/plain": [
       "                            precision       recall  specificity  \\\n",
       "RF_Predictions_MD_FDA     0.404±0.015  0.947±0.043  0.259±0.026   \n",
       "RF_Predictions_ECFP4_FDA  0.362±0.016  0.712±0.033  0.334±0.033   \n",
       "RF_Predictions_PT_FDA     0.343±0.009   0.976±0.03  0.006±0.013   \n",
       "\n",
       "                         balanced_accuracy     accuracy           MCC  \n",
       "RF_Predictions_MD_FDA          0.603±0.027  0.498±0.024   0.253±0.067  \n",
       "RF_Predictions_ECFP4_FDA       0.523±0.024  0.465±0.025   0.047±0.049  \n",
       "RF_Predictions_PT_FDA          0.491±0.019  0.343±0.016  -0.058±0.127  "
      ]
     },
     "execution_count": 12,
     "metadata": {},
     "output_type": "execute_result"
    }
   ],
   "source": [
    "pd.DataFrame.from_dict(RF_test,orient='index', columns=['precision','recall','specificity','balanced_accuracy','accuracy','MCC'])"
   ]
  },
  {
   "cell_type": "code",
   "execution_count": 8,
   "metadata": {},
   "outputs": [],
   "source": [
    "RF_test = pd.DataFrame.from_dict(RF_test,orient='index', columns=['precision','recall','specificity','balanced_accuracy','accuracy','MCC'])\n",
    "SVM_test = pd.DataFrame.from_dict(SVM_test,orient='index', columns=['precision','recall','specificity','balanced_accuracy','accuracy','MCC'])"
   ]
  },
  {
   "cell_type": "code",
   "execution_count": 9,
   "metadata": {},
   "outputs": [],
   "source": [
    "SVM_test.to_csv(\"./ECFP4_MD_PT_SVM_results_table_FDA.csv\")\n",
    "RF_test.to_csv(\"./ECFP4_MD_PT_RF_results_table_FDA.csv\")"
   ]
  },
  {
   "cell_type": "code",
   "execution_count": null,
   "metadata": {},
   "outputs": [],
   "source": []
  }
 ],
 "metadata": {
  "kernelspec": {
   "display_name": "Python 3",
   "language": "python",
   "name": "python3"
  },
  "language_info": {
   "codemirror_mode": {
    "name": "ipython",
    "version": 3
   },
   "file_extension": ".py",
   "mimetype": "text/x-python",
   "name": "python",
   "nbconvert_exporter": "python",
   "pygments_lexer": "ipython3",
   "version": "3.6.8"
  }
 },
 "nbformat": 4,
 "nbformat_minor": 2
}
