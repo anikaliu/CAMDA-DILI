{
 "cells": [
  {
   "cell_type": "code",
   "execution_count": 1,
   "metadata": {},
   "outputs": [],
   "source": [
    "import pandas as pd\n",
    "import numpy as np\n",
    "import glob, os"
   ]
  },
  {
   "cell_type": "code",
   "execution_count": 2,
   "metadata": {},
   "outputs": [
    {
     "name": "stdout",
     "output_type": "stream",
     "text": [
      "/Users/psrw2/OneDrive - University Of Cambridge/GitHub/CAMDA-DILI/Machine_Learning/code\n"
     ]
    }
   ],
   "source": [
    "print(os.getcwd())"
   ]
  },
  {
   "cell_type": "code",
   "execution_count": 3,
   "metadata": {},
   "outputs": [],
   "source": [
    "os.chdir('../data/FDA_Validation_Set_Results')"
   ]
  },
  {
   "cell_type": "code",
   "execution_count": 4,
   "metadata": {},
   "outputs": [],
   "source": [
    "directories = ['./Predictions_ECFP4','./Predictions_MD','./Predictions_PT']"
   ]
  },
  {
   "cell_type": "code",
   "execution_count": 5,
   "metadata": {},
   "outputs": [
    {
     "name": "stdout",
     "output_type": "stream",
     "text": [
      "./Predictions_MD/ambiguous_results.csv\n",
      "./Predictions_ECFP4/ambiguous_results.csv\n",
      "./Predictions_PT/ambiguous_results.csv\n"
     ]
    }
   ],
   "source": [
    "RF_test = {}\n",
    "SVM_test = {}\n",
    "i=0\n",
    "for file in glob.glob('./**/ambiguous_results.csv'):\n",
    "    model = file.split('/')[1]\n",
    "    print(file)\n",
    "    Test_data = pd.read_csv(file)\n",
    "    Test_data.drop(Test_data.columns[0],axis=1,inplace=True) # drop index column\n",
    "    RF_models_ts = Test_data[Test_data['splits'].str.contains(\"MCNC.RF\")]\n",
    "    SVM_models_ts = Test_data[Test_data['splits'].str.contains(\"MCNC.SVM\")]\n",
    "\n",
    "    \n",
    "    RF_test['RF_'+model+'_FDA'] = [str(round(RF_models_ts.mean(axis=0)[i],3)) +\"\\u00B1\"+ str(round(RF_models_ts.std(axis=0)[i],3)) for i in range(len(RF_models_ts.mean(axis=0)))] \n",
    "    SVM_test['SVM_'+model+'_FDA'] = [str(round(SVM_models_ts.mean(axis=0)[i],3)) +\"\\u00B1\"+ str(round(SVM_models_ts.std(axis=0)[i],3)) for i in range(len(SVM_models_ts.mean(axis=0)))] "
   ]
  },
  {
   "cell_type": "code",
   "execution_count": 6,
   "metadata": {},
   "outputs": [
    {
     "data": {
      "text/html": [
       "<div>\n",
       "<style scoped>\n",
       "    .dataframe tbody tr th:only-of-type {\n",
       "        vertical-align: middle;\n",
       "    }\n",
       "\n",
       "    .dataframe tbody tr th {\n",
       "        vertical-align: top;\n",
       "    }\n",
       "\n",
       "    .dataframe thead th {\n",
       "        text-align: right;\n",
       "    }\n",
       "</style>\n",
       "<table border=\"1\" class=\"dataframe\">\n",
       "  <thead>\n",
       "    <tr style=\"text-align: right;\">\n",
       "      <th></th>\n",
       "      <th>splits</th>\n",
       "      <th>precision</th>\n",
       "      <th>recall</th>\n",
       "      <th>specificity</th>\n",
       "      <th>balanced_accuracy</th>\n",
       "      <th>accuracy</th>\n",
       "      <th>MCC</th>\n",
       "    </tr>\n",
       "  </thead>\n",
       "  <tbody>\n",
       "    <tr>\n",
       "      <th>15</th>\n",
       "      <td>MCNC.SVM.1.3</td>\n",
       "      <td>0.433333</td>\n",
       "      <td>0.764706</td>\n",
       "      <td>0.46875</td>\n",
       "      <td>0.616728</td>\n",
       "      <td>0.571429</td>\n",
       "      <td>0.228069</td>\n",
       "    </tr>\n",
       "    <tr>\n",
       "      <th>18</th>\n",
       "      <td>MCNC.SVM.1.2</td>\n",
       "      <td>0.413793</td>\n",
       "      <td>0.705882</td>\n",
       "      <td>0.46875</td>\n",
       "      <td>0.587316</td>\n",
       "      <td>0.551020</td>\n",
       "      <td>0.169126</td>\n",
       "    </tr>\n",
       "    <tr>\n",
       "      <th>22</th>\n",
       "      <td>MCNC.SVM.1.1</td>\n",
       "      <td>0.384615</td>\n",
       "      <td>0.588235</td>\n",
       "      <td>0.50000</td>\n",
       "      <td>0.544118</td>\n",
       "      <td>0.530612</td>\n",
       "      <td>0.084157</td>\n",
       "    </tr>\n",
       "    <tr>\n",
       "      <th>25</th>\n",
       "      <td>MCNC.SVM.1.5</td>\n",
       "      <td>0.413793</td>\n",
       "      <td>0.705882</td>\n",
       "      <td>0.46875</td>\n",
       "      <td>0.587316</td>\n",
       "      <td>0.551020</td>\n",
       "      <td>0.169126</td>\n",
       "    </tr>\n",
       "    <tr>\n",
       "      <th>27</th>\n",
       "      <td>MCNC.SVM.1.4</td>\n",
       "      <td>0.413793</td>\n",
       "      <td>0.705882</td>\n",
       "      <td>0.46875</td>\n",
       "      <td>0.587316</td>\n",
       "      <td>0.551020</td>\n",
       "      <td>0.169126</td>\n",
       "    </tr>\n",
       "    <tr>\n",
       "      <th>30</th>\n",
       "      <td>MCNC.SVM.1.6</td>\n",
       "      <td>0.433333</td>\n",
       "      <td>0.764706</td>\n",
       "      <td>0.46875</td>\n",
       "      <td>0.616728</td>\n",
       "      <td>0.571429</td>\n",
       "      <td>0.228069</td>\n",
       "    </tr>\n",
       "    <tr>\n",
       "      <th>33</th>\n",
       "      <td>MCNC.SVM.1.7</td>\n",
       "      <td>0.384615</td>\n",
       "      <td>0.588235</td>\n",
       "      <td>0.50000</td>\n",
       "      <td>0.544118</td>\n",
       "      <td>0.530612</td>\n",
       "      <td>0.084157</td>\n",
       "    </tr>\n",
       "    <tr>\n",
       "      <th>40</th>\n",
       "      <td>MCNC.SVM.1.9</td>\n",
       "      <td>0.413793</td>\n",
       "      <td>0.705882</td>\n",
       "      <td>0.46875</td>\n",
       "      <td>0.587316</td>\n",
       "      <td>0.551020</td>\n",
       "      <td>0.169126</td>\n",
       "    </tr>\n",
       "    <tr>\n",
       "      <th>41</th>\n",
       "      <td>MCNC.SVM.1.8</td>\n",
       "      <td>0.384615</td>\n",
       "      <td>0.588235</td>\n",
       "      <td>0.50000</td>\n",
       "      <td>0.544118</td>\n",
       "      <td>0.530612</td>\n",
       "      <td>0.084157</td>\n",
       "    </tr>\n",
       "    <tr>\n",
       "      <th>44</th>\n",
       "      <td>MCNC.SVM.1.10</td>\n",
       "      <td>0.384615</td>\n",
       "      <td>0.588235</td>\n",
       "      <td>0.50000</td>\n",
       "      <td>0.544118</td>\n",
       "      <td>0.530612</td>\n",
       "      <td>0.084157</td>\n",
       "    </tr>\n",
       "  </tbody>\n",
       "</table>\n",
       "</div>"
      ],
      "text/plain": [
       "           splits  precision    recall  specificity  balanced_accuracy  \\\n",
       "15   MCNC.SVM.1.3   0.433333  0.764706      0.46875           0.616728   \n",
       "18   MCNC.SVM.1.2   0.413793  0.705882      0.46875           0.587316   \n",
       "22   MCNC.SVM.1.1   0.384615  0.588235      0.50000           0.544118   \n",
       "25   MCNC.SVM.1.5   0.413793  0.705882      0.46875           0.587316   \n",
       "27   MCNC.SVM.1.4   0.413793  0.705882      0.46875           0.587316   \n",
       "30   MCNC.SVM.1.6   0.433333  0.764706      0.46875           0.616728   \n",
       "33   MCNC.SVM.1.7   0.384615  0.588235      0.50000           0.544118   \n",
       "40   MCNC.SVM.1.9   0.413793  0.705882      0.46875           0.587316   \n",
       "41   MCNC.SVM.1.8   0.384615  0.588235      0.50000           0.544118   \n",
       "44  MCNC.SVM.1.10   0.384615  0.588235      0.50000           0.544118   \n",
       "\n",
       "    accuracy       MCC  \n",
       "15  0.571429  0.228069  \n",
       "18  0.551020  0.169126  \n",
       "22  0.530612  0.084157  \n",
       "25  0.551020  0.169126  \n",
       "27  0.551020  0.169126  \n",
       "30  0.571429  0.228069  \n",
       "33  0.530612  0.084157  \n",
       "40  0.551020  0.169126  \n",
       "41  0.530612  0.084157  \n",
       "44  0.530612  0.084157  "
      ]
     },
     "execution_count": 6,
     "metadata": {},
     "output_type": "execute_result"
    }
   ],
   "source": [
    "SVM_models_ts"
   ]
  },
  {
   "cell_type": "code",
   "execution_count": 7,
   "metadata": {},
   "outputs": [
    {
     "data": {
      "text/html": [
       "<div>\n",
       "<style scoped>\n",
       "    .dataframe tbody tr th:only-of-type {\n",
       "        vertical-align: middle;\n",
       "    }\n",
       "\n",
       "    .dataframe tbody tr th {\n",
       "        vertical-align: top;\n",
       "    }\n",
       "\n",
       "    .dataframe thead th {\n",
       "        text-align: right;\n",
       "    }\n",
       "</style>\n",
       "<table border=\"1\" class=\"dataframe\">\n",
       "  <thead>\n",
       "    <tr style=\"text-align: right;\">\n",
       "      <th></th>\n",
       "      <th>precision</th>\n",
       "      <th>recall</th>\n",
       "      <th>specificity</th>\n",
       "      <th>balanced_accuracy</th>\n",
       "      <th>accuracy</th>\n",
       "      <th>MCC</th>\n",
       "    </tr>\n",
       "  </thead>\n",
       "  <tbody>\n",
       "    <tr>\n",
       "      <th>SVM_Predictions_MD_FDA</th>\n",
       "      <td>0.405±0.076</td>\n",
       "      <td>0.465±0.076</td>\n",
       "      <td>0.634±0.057</td>\n",
       "      <td>0.55±0.066</td>\n",
       "      <td>0.576±0.063</td>\n",
       "      <td>0.097±0.128</td>\n",
       "    </tr>\n",
       "    <tr>\n",
       "      <th>SVM_Predictions_ECFP4_FDA</th>\n",
       "      <td>0.524±0.0</td>\n",
       "      <td>0.647±0.0</td>\n",
       "      <td>0.688±0.0</td>\n",
       "      <td>0.667±0.0</td>\n",
       "      <td>0.673±0.0</td>\n",
       "      <td>0.322±0.0</td>\n",
       "    </tr>\n",
       "    <tr>\n",
       "      <th>SVM_Predictions_PT_FDA</th>\n",
       "      <td>0.406±0.02</td>\n",
       "      <td>0.671±0.074</td>\n",
       "      <td>0.481±0.016</td>\n",
       "      <td>0.576±0.03</td>\n",
       "      <td>0.547±0.016</td>\n",
       "      <td>0.147±0.059</td>\n",
       "    </tr>\n",
       "  </tbody>\n",
       "</table>\n",
       "</div>"
      ],
      "text/plain": [
       "                             precision       recall  specificity  \\\n",
       "SVM_Predictions_MD_FDA     0.405±0.076  0.465±0.076  0.634±0.057   \n",
       "SVM_Predictions_ECFP4_FDA    0.524±0.0    0.647±0.0    0.688±0.0   \n",
       "SVM_Predictions_PT_FDA      0.406±0.02  0.671±0.074  0.481±0.016   \n",
       "\n",
       "                          balanced_accuracy     accuracy          MCC  \n",
       "SVM_Predictions_MD_FDA           0.55±0.066  0.576±0.063  0.097±0.128  \n",
       "SVM_Predictions_ECFP4_FDA         0.667±0.0    0.673±0.0    0.322±0.0  \n",
       "SVM_Predictions_PT_FDA           0.576±0.03  0.547±0.016  0.147±0.059  "
      ]
     },
     "execution_count": 7,
     "metadata": {},
     "output_type": "execute_result"
    }
   ],
   "source": [
    "pd.DataFrame.from_dict(SVM_test,orient='index', columns=['precision','recall','specificity','balanced_accuracy','accuracy','MCC'])"
   ]
  },
  {
   "cell_type": "code",
   "execution_count": 8,
   "metadata": {},
   "outputs": [],
   "source": [
    "RF_test = pd.DataFrame.from_dict(RF_test,orient='index', columns=['precision','recall','specificity','balanced_accuracy','accuracy','MCC'])\n",
    "SVM_test = pd.DataFrame.from_dict(SVM_test,orient='index', columns=['precision','recall','specificity','balanced_accuracy','accuracy','MCC'])"
   ]
  },
  {
   "cell_type": "code",
   "execution_count": 9,
   "metadata": {},
   "outputs": [],
   "source": [
    "SVM_test.to_csv(\"./ECFP4_MD_PT_SVM_results_table_FDA.csv\")\n",
    "RF_test.to_csv(\"./ECFP4_MD_PT_RF_results_table_FDA.csv\")"
   ]
  },
  {
   "cell_type": "code",
   "execution_count": null,
   "metadata": {},
   "outputs": [],
   "source": []
  }
 ],
 "metadata": {
  "kernelspec": {
   "display_name": "Python 3",
   "language": "python",
   "name": "python3"
  },
  "language_info": {
   "codemirror_mode": {
    "name": "ipython",
    "version": 3
   },
   "file_extension": ".py",
   "mimetype": "text/x-python",
   "name": "python",
   "nbconvert_exporter": "python",
   "pygments_lexer": "ipython3",
   "version": "3.6.8"
  }
 },
 "nbformat": 4,
 "nbformat_minor": 2
}
