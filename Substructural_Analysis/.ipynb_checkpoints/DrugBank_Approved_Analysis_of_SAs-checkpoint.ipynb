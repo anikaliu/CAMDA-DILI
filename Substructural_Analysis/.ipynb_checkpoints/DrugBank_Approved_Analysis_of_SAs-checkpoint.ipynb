{
 "cells": [
  {
   "cell_type": "code",
   "execution_count": 1,
   "metadata": {},
   "outputs": [],
   "source": [
    "from time import time\n",
    "import pandas as pd\n",
    "import numpy as np\n",
    "#import SARpy\n",
    "import operator\n",
    "from rdkit import Chem\n",
    "from rdkit.Chem import AllChem\n",
    "from rdkit.Chem import Draw\n",
    "from rdkit.Chem.Draw import IPythonConsole\n",
    "from sklearn.model_selection import train_test_split\n",
    "from pprint import pprint\n",
    "from rdkit.Chem import AllChem as Chem\n",
    "from matplotlib import pyplot as plt\n",
    "import matplotlib\n",
    "import matplotlib.patches as mpatches\n",
    "import scipy.stats as stats\n",
    "import statsmodels.stats.multitest as smm\n",
    "from standardiser import standardise as std\n",
    "import rdkit"
   ]
  },
  {
   "cell_type": "code",
   "execution_count": 2,
   "metadata": {},
   "outputs": [],
   "source": [
    "SA_stats = pd.read_csv(\"./Data/Structural_alerts.csv\")\n",
    "Drugbank = pd.read_csv(\"./Data/DrugBank_5_1_4_approved.csv\")\n",
    "Drugbank = Drugbank[pd.notnull(Drugbank['SMILES'])]\n",
    "Drugbank.drop_duplicates(subset='SMILES', keep=\"first\",inplace=True)"
   ]
  },
  {
   "cell_type": "code",
   "execution_count": 3,
   "metadata": {},
   "outputs": [],
   "source": [
    "SAs = SA_stats['Unnamed: 0'].tolist()\n",
    "Drugbank_comps = Drugbank['SMILES'].tolist()"
   ]
  },
  {
   "cell_type": "code",
   "execution_count": 4,
   "metadata": {},
   "outputs": [
    {
     "data": {
      "text/plain": [
       "2411"
      ]
     },
     "execution_count": 4,
     "metadata": {},
     "output_type": "execute_result"
    }
   ],
   "source": [
    "len(Drugbank_comps)\n",
    "len(set(Drugbank_comps))"
   ]
  },
  {
   "cell_type": "code",
   "execution_count": 5,
   "metadata": {},
   "outputs": [],
   "source": [
    "def std_smile_and_inchi(smiles_list):\n",
    "\n",
    "    i=0\n",
    "\n",
    "    std_smiles = []\n",
    "\n",
    "    inchi_keys = []\n",
    "\n",
    "    length = len(smiles_list)\n",
    "\n",
    "    for smile in smiles_list[:]:\n",
    "\n",
    "        if type(smile) == float:\n",
    "\n",
    "            continue\n",
    "\n",
    "        else:\n",
    "\n",
    "            try:\n",
    "\n",
    "                std_smile = std.run(smile)\n",
    "\n",
    "                mol = Chem.MolFromSmiles(std_smile,sanitize=True)#,catchErrors=False) \n",
    "\n",
    "                if mol is None: ### Currently doesn't capture the cant kekulize mol :( \n",
    "\n",
    "                    print (\"Error in molfrom smiles -> skipping this molecule\")\n",
    "\n",
    "                    inchi_key = None\n",
    "\n",
    "                    inchi_keys.append(inchi_key)\n",
    "\n",
    "                    std_smiles.append(std_smile)\n",
    "\n",
    "                else:\n",
    "\n",
    "                    std_smiles.append(std_smile)\n",
    "\n",
    "                    inchi_key = Chem.inchi.MolToInchiKey(mol) ### INCHI AT THE MOMENT (WHICH IS WHY CHEMBL_ID ISEN'T WORKING)\n",
    "\n",
    "                    inchi_keys.append(inchi_key)\n",
    "\n",
    "            except std.StandardiseException:\n",
    "                print(\"Standardisation error -> skipping this molecule\")\n",
    "                continue\n",
    "\n",
    "            except Chem.inchi.InchiReadWriteError:\n",
    "                print(\"Inchi error -> skipping this molecule\")\n",
    "                continue\n",
    "\n",
    "                                \n",
    "\n",
    "                \n",
    "\n",
    "        i+=1\n",
    "\n",
    "\n",
    "    return std_smiles,inchi_keys  "
   ]
  },
  {
   "cell_type": "code",
   "execution_count": 6,
   "metadata": {},
   "outputs": [
    {
     "name": "stdout",
     "output_type": "stream",
     "text": [
      "Standardisation error -> skipping this molecule\n",
      "Standardisation error -> skipping this molecule\n",
      "Standardisation error -> skipping this molecule\n",
      "Standardisation error -> skipping this molecule\n",
      "Standardisation error -> skipping this molecule\n",
      "Standardisation error -> skipping this molecule\n",
      "Standardisation error -> skipping this molecule\n",
      "Standardisation error -> skipping this molecule\n",
      "Standardisation error -> skipping this molecule\n"
     ]
    },
    {
     "name": "stderr",
     "output_type": "stream",
     "text": [
      "RDKit ERROR: [17:23:38] Explicit valence for atom # 2 O, 3, is greater than permitted\n"
     ]
    },
    {
     "name": "stdout",
     "output_type": "stream",
     "text": [
      "Standardisation error -> skipping this molecule\n",
      "Standardisation error -> skipping this molecule\n",
      "Standardisation error -> skipping this molecule\n",
      "Standardisation error -> skipping this molecule\n"
     ]
    },
    {
     "name": "stderr",
     "output_type": "stream",
     "text": [
      "RDKit ERROR: [17:23:38] Can't kekulize mol.  Unkekulized atoms: 0 1 3 5 8 10\n",
      "RDKit ERROR: \n"
     ]
    },
    {
     "name": "stdout",
     "output_type": "stream",
     "text": [
      "Standardisation error -> skipping this molecule\n"
     ]
    },
    {
     "name": "stderr",
     "output_type": "stream",
     "text": [
      "RDKit ERROR: [17:23:39] Explicit valence for atom # 0 N, 4, is greater than permitted\n",
      "RDKit ERROR: [17:23:39] Explicit valence for atom # 0 N, 4, is greater than permitted\n"
     ]
    },
    {
     "name": "stdout",
     "output_type": "stream",
     "text": [
      "Standardisation error -> skipping this molecule\n",
      "Standardisation error -> skipping this molecule\n",
      "Standardisation error -> skipping this molecule\n",
      "Standardisation error -> skipping this molecule\n",
      "Standardisation error -> skipping this molecule\n",
      "Standardisation error -> skipping this molecule\n",
      "Standardisation error -> skipping this molecule\n",
      "Standardisation error -> skipping this molecule\n",
      "Standardisation error -> skipping this molecule\n",
      "Standardisation error -> skipping this molecule\n",
      "Standardisation error -> skipping this molecule\n",
      "Standardisation error -> skipping this molecule\n",
      "Standardisation error -> skipping this molecule\n"
     ]
    },
    {
     "name": "stderr",
     "output_type": "stream",
     "text": [
      "RDKit ERROR: [17:23:43] Explicit valence for atom # 0 N, 4, is greater than permitted\n"
     ]
    },
    {
     "name": "stdout",
     "output_type": "stream",
     "text": [
      "Standardisation error -> skipping this molecule\n",
      "Standardisation error -> skipping this molecule\n",
      "Standardisation error -> skipping this molecule\n",
      "Standardisation error -> skipping this molecule\n",
      "Standardisation error -> skipping this molecule\n"
     ]
    },
    {
     "name": "stderr",
     "output_type": "stream",
     "text": [
      "RDKit ERROR: [17:23:43] Can't kekulize mol.  Unkekulized atoms: 0 1 3 4 7 9\n",
      "RDKit ERROR: \n"
     ]
    },
    {
     "name": "stdout",
     "output_type": "stream",
     "text": [
      "Standardisation error -> skipping this molecule\n",
      "Standardisation error -> skipping this molecule\n",
      "Standardisation error -> skipping this molecule\n",
      "Standardisation error -> skipping this molecule\n",
      "Standardisation error -> skipping this molecule\n",
      "Standardisation error -> skipping this molecule\n",
      "Standardisation error -> skipping this molecule\n",
      "Standardisation error -> skipping this molecule\n",
      "Standardisation error -> skipping this molecule\n",
      "Standardisation error -> skipping this molecule\n",
      "Standardisation error -> skipping this molecule\n",
      "Standardisation error -> skipping this molecule\n",
      "Standardisation error -> skipping this molecule\n",
      "Standardisation error -> skipping this molecule\n",
      "Standardisation error -> skipping this molecule\n",
      "Standardisation error -> skipping this molecule\n",
      "Standardisation error -> skipping this molecule\n",
      "Standardisation error -> skipping this molecule\n",
      "Standardisation error -> skipping this molecule\n",
      "Standardisation error -> skipping this molecule\n",
      "Standardisation error -> skipping this molecule\n",
      "Standardisation error -> skipping this molecule\n",
      "Standardisation error -> skipping this molecule\n",
      "Standardisation error -> skipping this molecule\n",
      "Standardisation error -> skipping this molecule\n",
      "Standardisation error -> skipping this molecule\n",
      "Standardisation error -> skipping this molecule\n",
      "Standardisation error -> skipping this molecule\n",
      "Standardisation error -> skipping this molecule\n",
      "Standardisation error -> skipping this molecule\n",
      "Standardisation error -> skipping this molecule\n",
      "Standardisation error -> skipping this molecule\n",
      "Standardisation error -> skipping this molecule\n",
      "Standardisation error -> skipping this molecule\n",
      "Standardisation error -> skipping this molecule\n",
      "Standardisation error -> skipping this molecule\n",
      "Standardisation error -> skipping this molecule\n",
      "Standardisation error -> skipping this molecule\n",
      "Standardisation error -> skipping this molecule\n",
      "Standardisation error -> skipping this molecule\n",
      "Standardisation error -> skipping this molecule\n",
      "Standardisation error -> skipping this molecule\n",
      "Standardisation error -> skipping this molecule\n",
      "Standardisation error -> skipping this molecule\n",
      "Standardisation error -> skipping this molecule\n",
      "Standardisation error -> skipping this molecule\n",
      "Standardisation error -> skipping this molecule\n",
      "Standardisation error -> skipping this molecule\n",
      "Standardisation error -> skipping this molecule\n",
      "Standardisation error -> skipping this molecule\n",
      "Standardisation error -> skipping this molecule\n",
      "Standardisation error -> skipping this molecule\n",
      "Standardisation error -> skipping this molecule\n",
      "Standardisation error -> skipping this molecule\n",
      "Standardisation error -> skipping this molecule\n",
      "Standardisation error -> skipping this molecule\n",
      "Standardisation error -> skipping this molecule\n",
      "Standardisation error -> skipping this molecule\n",
      "Standardisation error -> skipping this molecule\n",
      "Standardisation error -> skipping this molecule\n",
      "Standardisation error -> skipping this molecule\n",
      "Standardisation error -> skipping this molecule\n",
      "Standardisation error -> skipping this molecule\n",
      "Standardisation error -> skipping this molecule\n",
      "Standardisation error -> skipping this molecule\n",
      "Standardisation error -> skipping this molecule\n",
      "Standardisation error -> skipping this molecule\n",
      "Standardisation error -> skipping this molecule\n",
      "Standardisation error -> skipping this molecule\n",
      "Standardisation error -> skipping this molecule\n",
      "Standardisation error -> skipping this molecule\n",
      "Standardisation error -> skipping this molecule\n",
      "Standardisation error -> skipping this molecule\n",
      "Standardisation error -> skipping this molecule\n",
      "Standardisation error -> skipping this molecule\n"
     ]
    },
    {
     "name": "stderr",
     "output_type": "stream",
     "text": [
      "RDKit ERROR: [17:23:54] Can't kekulize mol.  Unkekulized atoms: 3 10\n",
      "RDKit ERROR: \n"
     ]
    },
    {
     "name": "stdout",
     "output_type": "stream",
     "text": [
      "Standardisation error -> skipping this molecule\n",
      "Standardisation error -> skipping this molecule\n",
      "Standardisation error -> skipping this molecule\n",
      "Standardisation error -> skipping this molecule\n",
      "Standardisation error -> skipping this molecule\n",
      "Standardisation error -> skipping this molecule\n",
      "Standardisation error -> skipping this molecule\n",
      "Standardisation error -> skipping this molecule\n",
      "Standardisation error -> skipping this molecule\n",
      "Standardisation error -> skipping this molecule\n",
      "Standardisation error -> skipping this molecule\n",
      "Standardisation error -> skipping this molecule\n",
      "Standardisation error -> skipping this molecule\n",
      "Standardisation error -> skipping this molecule\n",
      "Standardisation error -> skipping this molecule\n",
      "Standardisation error -> skipping this molecule\n",
      "Standardisation error -> skipping this molecule\n",
      "Standardisation error -> skipping this molecule\n",
      "Standardisation error -> skipping this molecule\n",
      "Standardisation error -> skipping this molecule\n",
      "Standardisation error -> skipping this molecule\n",
      "Standardisation error -> skipping this molecule\n",
      "Standardisation error -> skipping this molecule\n"
     ]
    },
    {
     "name": "stderr",
     "output_type": "stream",
     "text": [
      "RDKit ERROR: [17:23:55] Explicit valence for atom # 2 N, 4, is greater than permitted\n"
     ]
    },
    {
     "name": "stdout",
     "output_type": "stream",
     "text": [
      "Standardisation error -> skipping this molecule\n",
      "Standardisation error -> skipping this molecule\n",
      "Standardisation error -> skipping this molecule\n",
      "Standardisation error -> skipping this molecule\n",
      "Standardisation error -> skipping this molecule\n",
      "Standardisation error -> skipping this molecule\n",
      "Standardisation error -> skipping this molecule\n",
      "Standardisation error -> skipping this molecule\n",
      "Standardisation error -> skipping this molecule\n",
      "Standardisation error -> skipping this molecule\n",
      "Standardisation error -> skipping this molecule\n",
      "Standardisation error -> skipping this molecule\n",
      "Standardisation error -> skipping this molecule\n",
      "Standardisation error -> skipping this molecule\n",
      "Standardisation error -> skipping this molecule\n",
      "Standardisation error -> skipping this molecule\n",
      "Standardisation error -> skipping this molecule\n",
      "Standardisation error -> skipping this molecule\n",
      "Standardisation error -> skipping this molecule\n",
      "Standardisation error -> skipping this molecule\n",
      "Standardisation error -> skipping this molecule\n",
      "Standardisation error -> skipping this molecule\n",
      "Standardisation error -> skipping this molecule\n",
      "Standardisation error -> skipping this molecule\n",
      "Standardisation error -> skipping this molecule\n",
      "Standardisation error -> skipping this molecule\n",
      "Standardisation error -> skipping this molecule\n",
      "Standardisation error -> skipping this molecule\n",
      "Standardisation error -> skipping this molecule\n",
      "Standardisation error -> skipping this molecule\n",
      "Standardisation error -> skipping this molecule\n",
      "Standardisation error -> skipping this molecule\n",
      "Standardisation error -> skipping this molecule\n",
      "Standardisation error -> skipping this molecule\n",
      "Standardisation error -> skipping this molecule\n",
      "Standardisation error -> skipping this molecule\n",
      "Standardisation error -> skipping this molecule\n"
     ]
    },
    {
     "name": "stderr",
     "output_type": "stream",
     "text": [
      "[17/02/20 17:23:55 standardiser.neutralise WARNING] zwitterion with more negative charges than quaternary positive centres detected\n"
     ]
    },
    {
     "name": "stdout",
     "output_type": "stream",
     "text": [
      "Standardisation error -> skipping this molecule\n",
      "Standardisation error -> skipping this molecule\n",
      "Standardisation error -> skipping this molecule\n",
      "Standardisation error -> skipping this molecule\n",
      "Standardisation error -> skipping this molecule\n",
      "Standardisation error -> skipping this molecule\n",
      "Standardisation error -> skipping this molecule\n",
      "Standardisation error -> skipping this molecule\n",
      "Standardisation error -> skipping this molecule\n",
      "Standardisation error -> skipping this molecule\n",
      "Standardisation error -> skipping this molecule\n",
      "Standardisation error -> skipping this molecule\n",
      "Standardisation error -> skipping this molecule\n",
      "Standardisation error -> skipping this molecule\n",
      "Standardisation error -> skipping this molecule\n",
      "Standardisation error -> skipping this molecule\n",
      "Standardisation error -> skipping this molecule\n",
      "Standardisation error -> skipping this molecule\n",
      "Standardisation error -> skipping this molecule\n",
      "Standardisation error -> skipping this molecule\n",
      "Standardisation error -> skipping this molecule\n",
      "Standardisation error -> skipping this molecule\n",
      "Standardisation error -> skipping this molecule\n",
      "Standardisation error -> skipping this molecule\n",
      "Standardisation error -> skipping this molecule\n",
      "Standardisation error -> skipping this molecule\n",
      "Standardisation error -> skipping this molecule\n"
     ]
    },
    {
     "name": "stderr",
     "output_type": "stream",
     "text": [
      "RDKit ERROR: [17:23:57] SMILES Parse Error: syntax error for input: 'OC1=CC=CC(=C1)C-1=C2\\CCC(=N2)\\C(=C2/N\\C(\\C=C2)=C(/C2=N/C(/C=C2)=C(\\C2=CC=C\\-1N2)C1=CC(O)=CC=C1)C1=CC(O)=CC=C1)\\C1=CC(O)=CC=C1'\n"
     ]
    },
    {
     "name": "stdout",
     "output_type": "stream",
     "text": [
      "Standardisation error -> skipping this molecule\n",
      "Standardisation error -> skipping this molecule\n",
      "Standardisation error -> skipping this molecule\n",
      "Standardisation error -> skipping this molecule\n",
      "Standardisation error -> skipping this molecule\n",
      "Standardisation error -> skipping this molecule\n",
      "Standardisation error -> skipping this molecule\n",
      "Standardisation error -> skipping this molecule\n",
      "Standardisation error -> skipping this molecule\n"
     ]
    },
    {
     "name": "stderr",
     "output_type": "stream",
     "text": [
      "RDKit ERROR: [17:23:59] Explicit valence for atom # 0 N, 4, is greater than permitted\n"
     ]
    },
    {
     "name": "stdout",
     "output_type": "stream",
     "text": [
      "Standardisation error -> skipping this molecule\n",
      "Standardisation error -> skipping this molecule\n",
      "Standardisation error -> skipping this molecule\n",
      "Standardisation error -> skipping this molecule\n",
      "Standardisation error -> skipping this molecule\n",
      "Standardisation error -> skipping this molecule\n",
      "Standardisation error -> skipping this molecule\n",
      "Standardisation error -> skipping this molecule\n",
      "Standardisation error -> skipping this molecule\n",
      "Standardisation error -> skipping this molecule\n",
      "Standardisation error -> skipping this molecule\n",
      "Standardisation error -> skipping this molecule\n",
      "Standardisation error -> skipping this molecule\n",
      "Standardisation error -> skipping this molecule\n",
      "Standardisation error -> skipping this molecule\n",
      "Standardisation error -> skipping this molecule\n",
      "Standardisation error -> skipping this molecule\n",
      "Standardisation error -> skipping this molecule\n",
      "Standardisation error -> skipping this molecule\n",
      "Standardisation error -> skipping this molecule\n",
      "Standardisation error -> skipping this molecule\n",
      "Standardisation error -> skipping this molecule\n",
      "Standardisation error -> skipping this molecule\n",
      "Standardisation error -> skipping this molecule\n",
      "Standardisation error -> skipping this molecule\n",
      "Standardisation error -> skipping this molecule\n",
      "Standardisation error -> skipping this molecule\n",
      "Standardisation error -> skipping this molecule\n",
      "Standardisation error -> skipping this molecule\n",
      "Standardisation error -> skipping this molecule\n",
      "Standardisation error -> skipping this molecule\n",
      "Standardisation error -> skipping this molecule\n",
      "Standardisation error -> skipping this molecule\n",
      "Standardisation error -> skipping this molecule\n",
      "Standardisation error -> skipping this molecule\n",
      "Standardisation error -> skipping this molecule\n",
      "Standardisation error -> skipping this molecule\n",
      "Standardisation error -> skipping this molecule\n"
     ]
    },
    {
     "name": "stderr",
     "output_type": "stream",
     "text": [
      "RDKit ERROR: [17:24:04] Explicit valence for atom # 0 Cl, 2, is greater than permitted\n"
     ]
    },
    {
     "name": "stdout",
     "output_type": "stream",
     "text": [
      "Standardisation error -> skipping this molecule\n",
      "Standardisation error -> skipping this molecule\n",
      "Standardisation error -> skipping this molecule\n",
      "Standardisation error -> skipping this molecule\n",
      "Standardisation error -> skipping this molecule\n",
      "Standardisation error -> skipping this molecule\n",
      "Standardisation error -> skipping this molecule\n",
      "Standardisation error -> skipping this molecule\n",
      "Standardisation error -> skipping this molecule\n",
      "Standardisation error -> skipping this molecule\n",
      "Standardisation error -> skipping this molecule\n",
      "Standardisation error -> skipping this molecule\n",
      "Standardisation error -> skipping this molecule\n",
      "Standardisation error -> skipping this molecule\n",
      "Standardisation error -> skipping this molecule\n",
      "Standardisation error -> skipping this molecule\n",
      "Standardisation error -> skipping this molecule\n",
      "Standardisation error -> skipping this molecule\n",
      "Standardisation error -> skipping this molecule\n",
      "Standardisation error -> skipping this molecule\n",
      "Standardisation error -> skipping this molecule\n",
      "Standardisation error -> skipping this molecule\n",
      "Standardisation error -> skipping this molecule\n",
      "Standardisation error -> skipping this molecule\n",
      "Standardisation error -> skipping this molecule\n",
      "Standardisation error -> skipping this molecule\n",
      "Standardisation error -> skipping this molecule\n",
      "Standardisation error -> skipping this molecule\n",
      "Standardisation error -> skipping this molecule\n",
      "Standardisation error -> skipping this molecule\n",
      "Standardisation error -> skipping this molecule\n",
      "Standardisation error -> skipping this molecule\n",
      "Standardisation error -> skipping this molecule\n",
      "Standardisation error -> skipping this molecule\n"
     ]
    }
   ],
   "source": [
    "Drugbank_comps_std = std_smile_and_inchi(Drugbank_comps)[0]"
   ]
  },
  {
   "cell_type": "code",
   "execution_count": 7,
   "metadata": {},
   "outputs": [
    {
     "name": "stdout",
     "output_type": "stream",
     "text": [
      "(2136, 2411)\n"
     ]
    }
   ],
   "source": [
    "print(len(Drugbank_comps_std), len(Drugbank_comps))"
   ]
  },
  {
   "cell_type": "code",
   "execution_count": 8,
   "metadata": {},
   "outputs": [],
   "source": [
    "count_list = []\n",
    "struct = []\n",
    "for index,SA in enumerate(SAs):\n",
    "    #print(index,len(SAs),SA)\n",
    "    patt = Chem.MolFromSmarts(SA)\n",
    "    i=0\n",
    "    example_struct = []\n",
    "    for DB in Drugbank_comps_std:\n",
    "        try:\n",
    "            m = Chem.MolFromSmiles(DB)\n",
    "            if m.HasSubstructMatch(patt):\n",
    "                i+=1\n",
    "                example_struct.append(DB)\n",
    "            else:\n",
    "                continue\n",
    "        except:\n",
    "            print(\"ERROR!\")\n",
    "            continue\n",
    "\n",
    "    count_list.append(i)\n",
    "    \n",
    "    if i>0:\n",
    "        struct.append(example_struct[-1])\n",
    "    else:\n",
    "        struct.append(np.nan)"
   ]
  },
  {
   "cell_type": "raw",
   "metadata": {},
   "source": [
    "count_list"
   ]
  },
  {
   "cell_type": "code",
   "execution_count": 9,
   "metadata": {},
   "outputs": [],
   "source": [
    "SA_stats['Number_Drugbank_Approved'] = count_list\n",
    "SA_stats['Example_Drugbank_Approved'] = struct"
   ]
  },
  {
   "cell_type": "code",
   "execution_count": 10,
   "metadata": {},
   "outputs": [
    {
     "data": {
      "text/html": [
       "<div>\n",
       "<style scoped>\n",
       "    .dataframe tbody tr th:only-of-type {\n",
       "        vertical-align: middle;\n",
       "    }\n",
       "\n",
       "    .dataframe tbody tr th {\n",
       "        vertical-align: top;\n",
       "    }\n",
       "\n",
       "    .dataframe thead th {\n",
       "        text-align: right;\n",
       "    }\n",
       "</style>\n",
       "<table border=\"1\" class=\"dataframe\">\n",
       "  <thead>\n",
       "    <tr style=\"text-align: right;\">\n",
       "      <th></th>\n",
       "      <th>Unnamed: 0</th>\n",
       "      <th>PPV</th>\n",
       "      <th>Source</th>\n",
       "      <th>odds_ratio</th>\n",
       "      <th>p_value</th>\n",
       "      <th>perc_hits</th>\n",
       "      <th>type</th>\n",
       "      <th>BH_Adjusted_p_value</th>\n",
       "      <th>Number_Drugbank_Approved</th>\n",
       "      <th>Example_Drugbank_Approved</th>\n",
       "    </tr>\n",
       "  </thead>\n",
       "  <tbody>\n",
       "    <tr>\n",
       "      <th>0</th>\n",
       "      <td>C12CCCCC1C3C(CCC3)CC2</td>\n",
       "      <td>0.352941</td>\n",
       "      <td>1</td>\n",
       "      <td>0.701299</td>\n",
       "      <td>0.825420</td>\n",
       "      <td>3.448276</td>\n",
       "      <td>ACTIVE</td>\n",
       "      <td>0.963596</td>\n",
       "      <td>120</td>\n",
       "      <td>C[C@@H]1C[C@H]2[C@@H]3CCC4=CC(=O)C=C[C@]4(C)[C...</td>\n",
       "    </tr>\n",
       "    <tr>\n",
       "      <th>1</th>\n",
       "      <td>NN</td>\n",
       "      <td>1.000000</td>\n",
       "      <td>1</td>\n",
       "      <td>inf</td>\n",
       "      <td>0.000015</td>\n",
       "      <td>7.471264</td>\n",
       "      <td>ACTIVE</td>\n",
       "      <td>0.000985</td>\n",
       "      <td>37</td>\n",
       "      <td>CCCCCCC(=O)O[C@H]1CC[C@H]2[C@@H]3CCC4=CC(=NNC(...</td>\n",
       "    </tr>\n",
       "    <tr>\n",
       "      <th>2</th>\n",
       "      <td>a[C!R]C(=O)[OH]</td>\n",
       "      <td>0.916667</td>\n",
       "      <td>1</td>\n",
       "      <td>15.251534</td>\n",
       "      <td>0.000632</td>\n",
       "      <td>6.321839</td>\n",
       "      <td>ACTIVE</td>\n",
       "      <td>0.016751</td>\n",
       "      <td>27</td>\n",
       "      <td>O=C(O)C(O)c1ccccc1</td>\n",
       "    </tr>\n",
       "    <tr>\n",
       "      <th>3</th>\n",
       "      <td>[#6]S(=O)(=O)N[#6]</td>\n",
       "      <td>0.705882</td>\n",
       "      <td>1</td>\n",
       "      <td>3.288889</td>\n",
       "      <td>0.019741</td>\n",
       "      <td>6.896552</td>\n",
       "      <td>ACTIVE</td>\n",
       "      <td>0.201207</td>\n",
       "      <td>89</td>\n",
       "      <td>CC(=O)N(c1onc(C)c1C)S(=O)(=O)c1ccc(N)cc1</td>\n",
       "    </tr>\n",
       "    <tr>\n",
       "      <th>4</th>\n",
       "      <td>c1ccccc1[NH2]</td>\n",
       "      <td>0.857143</td>\n",
       "      <td>1</td>\n",
       "      <td>8.071429</td>\n",
       "      <td>0.028254</td>\n",
       "      <td>3.448276</td>\n",
       "      <td>ACTIVE</td>\n",
       "      <td>0.242394</td>\n",
       "      <td>62</td>\n",
       "      <td>Nc1ccc(N)cc1</td>\n",
       "    </tr>\n",
       "  </tbody>\n",
       "</table>\n",
       "</div>"
      ],
      "text/plain": [
       "              Unnamed: 0       PPV  Source  odds_ratio   p_value  perc_hits  \\\n",
       "0  C12CCCCC1C3C(CCC3)CC2  0.352941       1    0.701299  0.825420   3.448276   \n",
       "1                     NN  1.000000       1         inf  0.000015   7.471264   \n",
       "2        a[C!R]C(=O)[OH]  0.916667       1   15.251534  0.000632   6.321839   \n",
       "3     [#6]S(=O)(=O)N[#6]  0.705882       1    3.288889  0.019741   6.896552   \n",
       "4          c1ccccc1[NH2]  0.857143       1    8.071429  0.028254   3.448276   \n",
       "\n",
       "     type  BH_Adjusted_p_value  Number_Drugbank_Approved  \\\n",
       "0  ACTIVE             0.963596                       120   \n",
       "1  ACTIVE             0.000985                        37   \n",
       "2  ACTIVE             0.016751                        27   \n",
       "3  ACTIVE             0.201207                        89   \n",
       "4  ACTIVE             0.242394                        62   \n",
       "\n",
       "                           Example_Drugbank_Approved  \n",
       "0  C[C@@H]1C[C@H]2[C@@H]3CCC4=CC(=O)C=C[C@]4(C)[C...  \n",
       "1  CCCCCCC(=O)O[C@H]1CC[C@H]2[C@@H]3CCC4=CC(=NNC(...  \n",
       "2                                 O=C(O)C(O)c1ccccc1  \n",
       "3           CC(=O)N(c1onc(C)c1C)S(=O)(=O)c1ccc(N)cc1  \n",
       "4                                       Nc1ccc(N)cc1  "
      ]
     },
     "execution_count": 10,
     "metadata": {},
     "output_type": "execute_result"
    }
   ],
   "source": [
    "SA_stats.head()"
   ]
  },
  {
   "cell_type": "code",
   "execution_count": 11,
   "metadata": {},
   "outputs": [],
   "source": [
    "SA_stats.to_csv(\"./Data/Structural_alerts_with_DrugBank.csv\")"
   ]
  },
  {
   "cell_type": "code",
   "execution_count": null,
   "metadata": {},
   "outputs": [],
   "source": []
  }
 ],
 "metadata": {
  "kernelspec": {
   "display_name": "Python 2",
   "language": "python",
   "name": "python2"
  },
  "language_info": {
   "codemirror_mode": {
    "name": "ipython",
    "version": 2
   },
   "file_extension": ".py",
   "mimetype": "text/x-python",
   "name": "python",
   "nbconvert_exporter": "python",
   "pygments_lexer": "ipython2",
   "version": "2.7.16"
  }
 },
 "nbformat": 4,
 "nbformat_minor": 2
}
