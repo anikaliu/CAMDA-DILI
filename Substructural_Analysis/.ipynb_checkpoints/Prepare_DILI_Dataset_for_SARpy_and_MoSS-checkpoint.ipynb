{
 "cells": [
  {
   "cell_type": "code",
   "execution_count": 1,
   "metadata": {},
   "outputs": [],
   "source": [
    "import pandas as pd"
   ]
  },
  {
   "cell_type": "markdown",
   "metadata": {},
   "source": [
    "# Filter vDILIConcern compounds for vMostDILIConcern and vNoDILIConcern"
   ]
  },
  {
   "cell_type": "code",
   "execution_count": 2,
   "metadata": {},
   "outputs": [],
   "source": [
    "structures = pd.read_csv(\"../Data_Processing/Structure_Standardization_And_Clustering/data/standardized_compounds_incl_ambiguous.csv\")"
   ]
  },
  {
   "cell_type": "code",
   "execution_count": null,
   "metadata": {},
   "outputs": [],
   "source": [
    "structures.rename(columns = {'standardized_smiles':'SMILES'}, inplace=True)\n",
    "structures.head()"
   ]
  },
  {
   "cell_type": "code",
   "execution_count": null,
   "metadata": {},
   "outputs": [],
   "source": [
    "structures\n",
    "structures = structures[structures['vDILIConcern'] != 'vLess-DILI-Concern']\n",
    "structures = structures[structures['vDILIConcern'] != 'sider_inactive']\n",
    "structures = structures[structures['vDILIConcern'] != 'Ambiguous DILI-concern']"
   ]
  },
  {
   "cell_type": "code",
   "execution_count": null,
   "metadata": {},
   "outputs": [],
   "source": [
    "structures['vDILIConcern'].unique()"
   ]
  },
  {
   "cell_type": "code",
   "execution_count": null,
   "metadata": {},
   "outputs": [],
   "source": [
    "structures['vDILIConcern'].value_counts()"
   ]
  },
  {
   "cell_type": "code",
   "execution_count": null,
   "metadata": {},
   "outputs": [],
   "source": [
    "structures.to_csv(\"./Most_No_DILIConcern_Dataset_for_SAs.csv\")"
   ]
  },
  {
   "cell_type": "markdown",
   "metadata": {},
   "source": [
    "# Additional preparation step for KNIME MoSS workflow"
   ]
  },
  {
   "cell_type": "code",
   "execution_count": null,
   "metadata": {},
   "outputs": [],
   "source": [
    "df = structures"
   ]
  },
  {
   "cell_type": "code",
   "execution_count": null,
   "metadata": {},
   "outputs": [],
   "source": [
    "df['name'] = df['Compound Name']\n",
    "#df['moss_label'] = df['DILI_LABEL'].map(lambda x:['inactive', 'active'][x])\n",
    "\n",
    "def moss_label(x):\n",
    "    \n",
    "    if x == 'vMost-DILI-Concern':\n",
    "        flag = 'active' \n",
    "    else:\n",
    "        flag = 'inactive'\n",
    "    return flag\n",
    "\n",
    "df['moss_label'] = df['vDILIConcern'].apply(moss_label)"
   ]
  },
  {
   "cell_type": "code",
   "execution_count": null,
   "metadata": {},
   "outputs": [],
   "source": [
    "df[['name', 'SMILES', 'moss_label']]"
   ]
  },
  {
   "cell_type": "code",
   "execution_count": null,
   "metadata": {},
   "outputs": [],
   "source": [
    "df[['name', 'SMILES', 'moss_label']].to_csv('./moss_input.csv', header=None, index=None)"
   ]
  }
 ],
 "metadata": {
  "kernelspec": {
   "display_name": "Python 2",
   "language": "python",
   "name": "python2"
  },
  "language_info": {
   "codemirror_mode": {
    "name": "ipython",
    "version": 2
   },
   "file_extension": ".py",
   "mimetype": "text/x-python",
   "name": "python",
   "nbconvert_exporter": "python",
   "pygments_lexer": "ipython2",
   "version": "2.7.16"
  }
 },
 "nbformat": 4,
 "nbformat_minor": 2
}
